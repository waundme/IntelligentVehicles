{
  "cells": [
    {
      "cell_type": "markdown",
      "metadata": {
        "id": "view-in-github",
        "colab_type": "text"
      },
      "source": [
        "<a href=\"https://colab.research.google.com/github/waundme/IntelligentVehicles/blob/main/Copy_of_Intelligent_Vehicles_und_Grobid_im_Batch_Mode%2C_einfachstes_Setup.ipynb\" target=\"_parent\"><img src=\"https://colab.research.google.com/assets/colab-badge.svg\" alt=\"Open In Colab\"/></a>"
      ]
    },
    {
      "cell_type": "code",
      "source": [
        "!nvidia-smi"
      ],
      "metadata": {
        "id": "pgHa2s9ZKt5o",
        "outputId": "0628c2eb-ad7b-4af7-c01c-e82494b18b65",
        "colab": {
          "base_uri": "https://localhost:8080/"
        }
      },
      "execution_count": 1,
      "outputs": [
        {
          "output_type": "stream",
          "name": "stdout",
          "text": [
            "Wed Jan 25 23:02:26 2023       \n",
            "+-----------------------------------------------------------------------------+\n",
            "| NVIDIA-SMI 510.47.03    Driver Version: 510.47.03    CUDA Version: 11.6     |\n",
            "|-------------------------------+----------------------+----------------------+\n",
            "| GPU  Name        Persistence-M| Bus-Id        Disp.A | Volatile Uncorr. ECC |\n",
            "| Fan  Temp  Perf  Pwr:Usage/Cap|         Memory-Usage | GPU-Util  Compute M. |\n",
            "|                               |                      |               MIG M. |\n",
            "|===============================+======================+======================|\n",
            "|   0  Tesla T4            Off  | 00000000:00:04.0 Off |                    0 |\n",
            "| N/A   46C    P0    26W /  70W |      0MiB / 15360MiB |      0%      Default |\n",
            "|                               |                      |                  N/A |\n",
            "+-------------------------------+----------------------+----------------------+\n",
            "                                                                               \n",
            "+-----------------------------------------------------------------------------+\n",
            "| Processes:                                                                  |\n",
            "|  GPU   GI   CI        PID   Type   Process name                  GPU Memory |\n",
            "|        ID   ID                                                   Usage      |\n",
            "|=============================================================================|\n",
            "|  No running processes found                                                 |\n",
            "+-----------------------------------------------------------------------------+\n"
          ]
        }
      ]
    },
    {
      "cell_type": "code",
      "execution_count": 1,
      "metadata": {
        "colab": {
          "base_uri": "https://localhost:8080/"
        },
        "id": "Gu4iPOeSXIwd",
        "outputId": "959c4156-0f16-437d-e919-a445ca74dd26"
      },
      "outputs": [
        {
          "output_type": "stream",
          "name": "stdout",
          "text": [
            "--2023-01-26 01:00:57--  https://www.sci-hub.st/datasets/dois-2022-02-12.7z\n",
            "Resolving www.sci-hub.st (www.sci-hub.st)... 186.2.163.201\n",
            "Connecting to www.sci-hub.st (www.sci-hub.st)|186.2.163.201|:443... connected.\n",
            "HTTP request sent, awaiting response... 200 OK\n",
            "Length: 500810393 (478M) [application/x-7z-compressed]\n",
            "Saving to: ‘dois-2022-02-12.7z’\n",
            "\n",
            "dois-2022-02-12.7z  100%[===================>] 477.61M  19.7MB/s    in 26s     \n",
            "\n",
            "2023-01-26 01:01:23 (18.6 MB/s) - ‘dois-2022-02-12.7z’ saved [500810393/500810393]\n",
            "\n",
            "\n",
            "7-Zip (a) [64] 16.02 : Copyright (c) 1999-2016 Igor Pavlov : 2016-05-21\n",
            "p7zip Version 16.02 (locale=en_US.UTF-8,Utf16=on,HugeFiles=on,64 bits,2 CPUs Intel(R) Xeon(R) CPU @ 2.20GHz (406F0),ASM,AES-NI)\n",
            "\n",
            "Scanning the drive for archives:\n",
            "  0M Scan\b\b\b\b\b\b\b\b\b         \b\b\b\b\b\b\b\b\b1 file, 500810393 bytes (478 MiB)\n",
            "\n",
            "Extracting archive: dois-2022-02-12.7z\n",
            "--\n",
            "Path = dois-2022-02-12.7z\n",
            "Type = 7z\n",
            "Physical Size = 500810393\n",
            "Headers Size = 162\n",
            "Method = LZMA2:24\n",
            "Solid = -\n",
            "Blocks = 1\n",
            "\n",
            "  0%\b\b\b\b    \b\b\b\b  0% - sci-hub-doi-2022-02-12.txt\b\b\b\b\b\b\b\b\b\b\b\b\b\b\b\b\b\b\b\b\b\b\b\b\b\b\b\b\b\b\b\b\b                                 \b\b\b\b\b\b\b\b\b\b\b\b\b\b\b\b\b\b\b\b\b\b\b\b\b\b\b\b\b\b\b\b\b  1% - sci-hub-doi-2022-02-12.txt\b\b\b\b\b\b\b\b\b\b\b\b\b\b\b\b\b\b\b\b\b\b\b\b\b\b\b\b\b\b\b\b\b                                 \b\b\b\b\b\b\b\b\b\b\b\b\b\b\b\b\b\b\b\b\b\b\b\b\b\b\b\b\b\b\b\b\b  2% - sci-hub-doi-2022-02-12.txt\b\b\b\b\b\b\b\b\b\b\b\b\b\b\b\b\b\b\b\b\b\b\b\b\b\b\b\b\b\b\b\b\b                                 \b\b\b\b\b\b\b\b\b\b\b\b\b\b\b\b\b\b\b\b\b\b\b\b\b\b\b\b\b\b\b\b\b  3% - sci-hub-doi-2022-02-12.txt\b\b\b\b\b\b\b\b\b\b\b\b\b\b\b\b\b\b\b\b\b\b\b\b\b\b\b\b\b\b\b\b\b                                 \b\b\b\b\b\b\b\b\b\b\b\b\b\b\b\b\b\b\b\b\b\b\b\b\b\b\b\b\b\b\b\b\b  4% - sci-hub-doi-2022-02-12.txt\b\b\b\b\b\b\b\b\b\b\b\b\b\b\b\b\b\b\b\b\b\b\b\b\b\b\b\b\b\b\b\b\b                                 \b\b\b\b\b\b\b\b\b\b\b\b\b\b\b\b\b\b\b\b\b\b\b\b\b\b\b\b\b\b\b\b\b  5% - sci-hub-doi-2022-02-12.txt\b\b\b\b\b\b\b\b\b\b\b\b\b\b\b\b\b\b\b\b\b\b\b\b\b\b\b\b\b\b\b\b\b                                 \b\b\b\b\b\b\b\b\b\b\b\b\b\b\b\b\b\b\b\b\b\b\b\b\b\b\b\b\b\b\b\b\b  6% - sci-hub-doi-2022-02-12.txt\b\b\b\b\b\b\b\b\b\b\b\b\b\b\b\b\b\b\b\b\b\b\b\b\b\b\b\b\b\b\b\b\b                                 \b\b\b\b\b\b\b\b\b\b\b\b\b\b\b\b\b\b\b\b\b\b\b\b\b\b\b\b\b\b\b\b\b  7% - sci-hub-doi-2022-02-12.txt\b\b\b\b\b\b\b\b\b\b\b\b\b\b\b\b\b\b\b\b\b\b\b\b\b\b\b\b\b\b\b\b\b                                 \b\b\b\b\b\b\b\b\b\b\b\b\b\b\b\b\b\b\b\b\b\b\b\b\b\b\b\b\b\b\b\b\b  8% - sci-hub-doi-2022-02-12.txt\b\b\b\b\b\b\b\b\b\b\b\b\b\b\b\b\b\b\b\b\b\b\b\b\b\b\b\b\b\b\b\b\b                                 \b\b\b\b\b\b\b\b\b\b\b\b\b\b\b\b\b\b\b\b\b\b\b\b\b\b\b\b\b\b\b\b\b  9% - sci-hub-doi-2022-02-12.txt\b\b\b\b\b\b\b\b\b\b\b\b\b\b\b\b\b\b\b\b\b\b\b\b\b\b\b\b\b\b\b\b\b                                 \b\b\b\b\b\b\b\b\b\b\b\b\b\b\b\b\b\b\b\b\b\b\b\b\b\b\b\b\b\b\b\b\b 10% - sci-hub-doi-2022-02-12.txt\b\b\b\b\b\b\b\b\b\b\b\b\b\b\b\b\b\b\b\b\b\b\b\b\b\b\b\b\b\b\b\b\b                                 \b\b\b\b\b\b\b\b\b\b\b\b\b\b\b\b\b\b\b\b\b\b\b\b\b\b\b\b\b\b\b\b\b 11% - sci-hub-doi-2022-02-12.txt\b\b\b\b\b\b\b\b\b\b\b\b\b\b\b\b\b\b\b\b\b\b\b\b\b\b\b\b\b\b\b\b\b                                 \b\b\b\b\b\b\b\b\b\b\b\b\b\b\b\b\b\b\b\b\b\b\b\b\b\b\b\b\b\b\b\b\b 12% - sci-hub-doi-2022-02-12.txt\b\b\b\b\b\b\b\b\b\b\b\b\b\b\b\b\b\b\b\b\b\b\b\b\b\b\b\b\b\b\b\b\b                                 \b\b\b\b\b\b\b\b\b\b\b\b\b\b\b\b\b\b\b\b\b\b\b\b\b\b\b\b\b\b\b\b\b 13% - sci-hub-doi-2022-02-12.txt\b\b\b\b\b\b\b\b\b\b\b\b\b\b\b\b\b\b\b\b\b\b\b\b\b\b\b\b\b\b\b\b\b                                 \b\b\b\b\b\b\b\b\b\b\b\b\b\b\b\b\b\b\b\b\b\b\b\b\b\b\b\b\b\b\b\b\b 14% - sci-hub-doi-2022-02-12.txt\b\b\b\b\b\b\b\b\b\b\b\b\b\b\b\b\b\b\b\b\b\b\b\b\b\b\b\b\b\b\b\b\b                                 \b\b\b\b\b\b\b\b\b\b\b\b\b\b\b\b\b\b\b\b\b\b\b\b\b\b\b\b\b\b\b\b\b 15% - sci-hub-doi-2022-02-12.txt\b\b\b\b\b\b\b\b\b\b\b\b\b\b\b\b\b\b\b\b\b\b\b\b\b\b\b\b\b\b\b\b\b                                 \b\b\b\b\b\b\b\b\b\b\b\b\b\b\b\b\b\b\b\b\b\b\b\b\b\b\b\b\b\b\b\b\b 16% - sci-hub-doi-2022-02-12.txt\b\b\b\b\b\b\b\b\b\b\b\b\b\b\b\b\b\b\b\b\b\b\b\b\b\b\b\b\b\b\b\b\b                                 \b\b\b\b\b\b\b\b\b\b\b\b\b\b\b\b\b\b\b\b\b\b\b\b\b\b\b\b\b\b\b\b\b 17% - sci-hub-doi-2022-02-12.txt\b\b\b\b\b\b\b\b\b\b\b\b\b\b\b\b\b\b\b\b\b\b\b\b\b\b\b\b\b\b\b\b\b                                 \b\b\b\b\b\b\b\b\b\b\b\b\b\b\b\b\b\b\b\b\b\b\b\b\b\b\b\b\b\b\b\b\b 18% - sci-hub-doi-2022-02-12.txt\b\b\b\b\b\b\b\b\b\b\b\b\b\b\b\b\b\b\b\b\b\b\b\b\b\b\b\b\b\b\b\b\b                                 \b\b\b\b\b\b\b\b\b\b\b\b\b\b\b\b\b\b\b\b\b\b\b\b\b\b\b\b\b\b\b\b\b 19% - sci-hub-doi-2022-02-12.txt\b\b\b\b\b\b\b\b\b\b\b\b\b\b\b\b\b\b\b\b\b\b\b\b\b\b\b\b\b\b\b\b\b                                 \b\b\b\b\b\b\b\b\b\b\b\b\b\b\b\b\b\b\b\b\b\b\b\b\b\b\b\b\b\b\b\b\b 20% - sci-hub-doi-2022-02-12.txt\b\b\b\b\b\b\b\b\b\b\b\b\b\b\b\b\b\b\b\b\b\b\b\b\b\b\b\b\b\b\b\b\b                                 \b\b\b\b\b\b\b\b\b\b\b\b\b\b\b\b\b\b\b\b\b\b\b\b\b\b\b\b\b\b\b\b\b 21% - sci-hub-doi-2022-02-12.txt\b\b\b\b\b\b\b\b\b\b\b\b\b\b\b\b\b\b\b\b\b\b\b\b\b\b\b\b\b\b\b\b\b                                 \b\b\b\b\b\b\b\b\b\b\b\b\b\b\b\b\b\b\b\b\b\b\b\b\b\b\b\b\b\b\b\b\b 22% - sci-hub-doi-2022-02-12.txt\b\b\b\b\b\b\b\b\b\b\b\b\b\b\b\b\b\b\b\b\b\b\b\b\b\b\b\b\b\b\b\b\b                                 \b\b\b\b\b\b\b\b\b\b\b\b\b\b\b\b\b\b\b\b\b\b\b\b\b\b\b\b\b\b\b\b\b 23% - sci-hub-doi-2022-02-12.txt\b\b\b\b\b\b\b\b\b\b\b\b\b\b\b\b\b\b\b\b\b\b\b\b\b\b\b\b\b\b\b\b\b                                 \b\b\b\b\b\b\b\b\b\b\b\b\b\b\b\b\b\b\b\b\b\b\b\b\b\b\b\b\b\b\b\b\b 24% - sci-hub-doi-2022-02-12.txt\b\b\b\b\b\b\b\b\b\b\b\b\b\b\b\b\b\b\b\b\b\b\b\b\b\b\b\b\b\b\b\b\b                                 \b\b\b\b\b\b\b\b\b\b\b\b\b\b\b\b\b\b\b\b\b\b\b\b\b\b\b\b\b\b\b\b\b 25% - sci-hub-doi-2022-02-12.txt\b\b\b\b\b\b\b\b\b\b\b\b\b\b\b\b\b\b\b\b\b\b\b\b\b\b\b\b\b\b\b\b\b                                 \b\b\b\b\b\b\b\b\b\b\b\b\b\b\b\b\b\b\b\b\b\b\b\b\b\b\b\b\b\b\b\b\b 26% - sci-hub-doi-2022-02-12.txt\b\b\b\b\b\b\b\b\b\b\b\b\b\b\b\b\b\b\b\b\b\b\b\b\b\b\b\b\b\b\b\b\b                                 \b\b\b\b\b\b\b\b\b\b\b\b\b\b\b\b\b\b\b\b\b\b\b\b\b\b\b\b\b\b\b\b\b 27% - sci-hub-doi-2022-02-12.txt\b\b\b\b\b\b\b\b\b\b\b\b\b\b\b\b\b\b\b\b\b\b\b\b\b\b\b\b\b\b\b\b\b                                 \b\b\b\b\b\b\b\b\b\b\b\b\b\b\b\b\b\b\b\b\b\b\b\b\b\b\b\b\b\b\b\b\b 28% - sci-hub-doi-2022-02-12.txt\b\b\b\b\b\b\b\b\b\b\b\b\b\b\b\b\b\b\b\b\b\b\b\b\b\b\b\b\b\b\b\b\b                                 \b\b\b\b\b\b\b\b\b\b\b\b\b\b\b\b\b\b\b\b\b\b\b\b\b\b\b\b\b\b\b\b\b 29% - sci-hub-doi-2022-02-12.txt\b\b\b\b\b\b\b\b\b\b\b\b\b\b\b\b\b\b\b\b\b\b\b\b\b\b\b\b\b\b\b\b\b                                 \b\b\b\b\b\b\b\b\b\b\b\b\b\b\b\b\b\b\b\b\b\b\b\b\b\b\b\b\b\b\b\b\b 30% - sci-hub-doi-2022-02-12.txt\b\b\b\b\b\b\b\b\b\b\b\b\b\b\b\b\b\b\b\b\b\b\b\b\b\b\b\b\b\b\b\b\b                                 \b\b\b\b\b\b\b\b\b\b\b\b\b\b\b\b\b\b\b\b\b\b\b\b\b\b\b\b\b\b\b\b\b 31% - sci-hub-doi-2022-02-12.txt\b\b\b\b\b\b\b\b\b\b\b\b\b\b\b\b\b\b\b\b\b\b\b\b\b\b\b\b\b\b\b\b\b                                 \b\b\b\b\b\b\b\b\b\b\b\b\b\b\b\b\b\b\b\b\b\b\b\b\b\b\b\b\b\b\b\b\b 32% - sci-hub-doi-2022-02-12.txt\b\b\b\b\b\b\b\b\b\b\b\b\b\b\b\b\b\b\b\b\b\b\b\b\b\b\b\b\b\b\b\b\b                                 \b\b\b\b\b\b\b\b\b\b\b\b\b\b\b\b\b\b\b\b\b\b\b\b\b\b\b\b\b\b\b\b\b 33% - sci-hub-doi-2022-02-12.txt\b\b\b\b\b\b\b\b\b\b\b\b\b\b\b\b\b\b\b\b\b\b\b\b\b\b\b\b\b\b\b\b\b                                 \b\b\b\b\b\b\b\b\b\b\b\b\b\b\b\b\b\b\b\b\b\b\b\b\b\b\b\b\b\b\b\b\b 34% - sci-hub-doi-2022-02-12.txt\b\b\b\b\b\b\b\b\b\b\b\b\b\b\b\b\b\b\b\b\b\b\b\b\b\b\b\b\b\b\b\b\b                                 \b\b\b\b\b\b\b\b\b\b\b\b\b\b\b\b\b\b\b\b\b\b\b\b\b\b\b\b\b\b\b\b\b 35% - sci-hub-doi-2022-02-12.txt\b\b\b\b\b\b\b\b\b\b\b\b\b\b\b\b\b\b\b\b\b\b\b\b\b\b\b\b\b\b\b\b\b                                 \b\b\b\b\b\b\b\b\b\b\b\b\b\b\b\b\b\b\b\b\b\b\b\b\b\b\b\b\b\b\b\b\b 36% - sci-hub-doi-2022-02-12.txt\b\b\b\b\b\b\b\b\b\b\b\b\b\b\b\b\b\b\b\b\b\b\b\b\b\b\b\b\b\b\b\b\b                                 \b\b\b\b\b\b\b\b\b\b\b\b\b\b\b\b\b\b\b\b\b\b\b\b\b\b\b\b\b\b\b\b\b 37% - sci-hub-doi-2022-02-12.txt\b\b\b\b\b\b\b\b\b\b\b\b\b\b\b\b\b\b\b\b\b\b\b\b\b\b\b\b\b\b\b\b\b                                 \b\b\b\b\b\b\b\b\b\b\b\b\b\b\b\b\b\b\b\b\b\b\b\b\b\b\b\b\b\b\b\b\b 38% - sci-hub-doi-2022-02-12.txt\b\b\b\b\b\b\b\b\b\b\b\b\b\b\b\b\b\b\b\b\b\b\b\b\b\b\b\b\b\b\b\b\b                                 \b\b\b\b\b\b\b\b\b\b\b\b\b\b\b\b\b\b\b\b\b\b\b\b\b\b\b\b\b\b\b\b\b 39% - sci-hub-doi-2022-02-12.txt\b\b\b\b\b\b\b\b\b\b\b\b\b\b\b\b\b\b\b\b\b\b\b\b\b\b\b\b\b\b\b\b\b                                 \b\b\b\b\b\b\b\b\b\b\b\b\b\b\b\b\b\b\b\b\b\b\b\b\b\b\b\b\b\b\b\b\b 40% - sci-hub-doi-2022-02-12.txt\b\b\b\b\b\b\b\b\b\b\b\b\b\b\b\b\b\b\b\b\b\b\b\b\b\b\b\b\b\b\b\b\b                                 \b\b\b\b\b\b\b\b\b\b\b\b\b\b\b\b\b\b\b\b\b\b\b\b\b\b\b\b\b\b\b\b\b 41% - sci-hub-doi-2022-02-12.txt\b\b\b\b\b\b\b\b\b\b\b\b\b\b\b\b\b\b\b\b\b\b\b\b\b\b\b\b\b\b\b\b\b                                 \b\b\b\b\b\b\b\b\b\b\b\b\b\b\b\b\b\b\b\b\b\b\b\b\b\b\b\b\b\b\b\b\b 42% - sci-hub-doi-2022-02-12.txt\b\b\b\b\b\b\b\b\b\b\b\b\b\b\b\b\b\b\b\b\b\b\b\b\b\b\b\b\b\b\b\b\b                                 \b\b\b\b\b\b\b\b\b\b\b\b\b\b\b\b\b\b\b\b\b\b\b\b\b\b\b\b\b\b\b\b\b 43% - sci-hub-doi-2022-02-12.txt\b\b\b\b\b\b\b\b\b\b\b\b\b\b\b\b\b\b\b\b\b\b\b\b\b\b\b\b\b\b\b\b\b                                 \b\b\b\b\b\b\b\b\b\b\b\b\b\b\b\b\b\b\b\b\b\b\b\b\b\b\b\b\b\b\b\b\b 44% - sci-hub-doi-2022-02-12.txt\b\b\b\b\b\b\b\b\b\b\b\b\b\b\b\b\b\b\b\b\b\b\b\b\b\b\b\b\b\b\b\b\b                                 \b\b\b\b\b\b\b\b\b\b\b\b\b\b\b\b\b\b\b\b\b\b\b\b\b\b\b\b\b\b\b\b\b 45% - sci-hub-doi-2022-02-12.txt\b\b\b\b\b\b\b\b\b\b\b\b\b\b\b\b\b\b\b\b\b\b\b\b\b\b\b\b\b\b\b\b\b                                 \b\b\b\b\b\b\b\b\b\b\b\b\b\b\b\b\b\b\b\b\b\b\b\b\b\b\b\b\b\b\b\b\b 46% - sci-hub-doi-2022-02-12.txt\b\b\b\b\b\b\b\b\b\b\b\b\b\b\b\b\b\b\b\b\b\b\b\b\b\b\b\b\b\b\b\b\b                                 \b\b\b\b\b\b\b\b\b\b\b\b\b\b\b\b\b\b\b\b\b\b\b\b\b\b\b\b\b\b\b\b\b 47% - sci-hub-doi-2022-02-12.txt\b\b\b\b\b\b\b\b\b\b\b\b\b\b\b\b\b\b\b\b\b\b\b\b\b\b\b\b\b\b\b\b\b                                 \b\b\b\b\b\b\b\b\b\b\b\b\b\b\b\b\b\b\b\b\b\b\b\b\b\b\b\b\b\b\b\b\b 48% - sci-hub-doi-2022-02-12.txt\b\b\b\b\b\b\b\b\b\b\b\b\b\b\b\b\b\b\b\b\b\b\b\b\b\b\b\b\b\b\b\b\b                                 \b\b\b\b\b\b\b\b\b\b\b\b\b\b\b\b\b\b\b\b\b\b\b\b\b\b\b\b\b\b\b\b\b 49% - sci-hub-doi-2022-02-12.txt\b\b\b\b\b\b\b\b\b\b\b\b\b\b\b\b\b\b\b\b\b\b\b\b\b\b\b\b\b\b\b\b\b                                 \b\b\b\b\b\b\b\b\b\b\b\b\b\b\b\b\b\b\b\b\b\b\b\b\b\b\b\b\b\b\b\b\b 50% - sci-hub-doi-2022-02-12.txt\b\b\b\b\b\b\b\b\b\b\b\b\b\b\b\b\b\b\b\b\b\b\b\b\b\b\b\b\b\b\b\b\b                                 \b\b\b\b\b\b\b\b\b\b\b\b\b\b\b\b\b\b\b\b\b\b\b\b\b\b\b\b\b\b\b\b\b 51% - sci-hub-doi-2022-02-12.txt\b\b\b\b\b\b\b\b\b\b\b\b\b\b\b\b\b\b\b\b\b\b\b\b\b\b\b\b\b\b\b\b\b                                 \b\b\b\b\b\b\b\b\b\b\b\b\b\b\b\b\b\b\b\b\b\b\b\b\b\b\b\b\b\b\b\b\b 52% - sci-hub-doi-2022-02-12.txt\b\b\b\b\b\b\b\b\b\b\b\b\b\b\b\b\b\b\b\b\b\b\b\b\b\b\b\b\b\b\b\b\b                                 \b\b\b\b\b\b\b\b\b\b\b\b\b\b\b\b\b\b\b\b\b\b\b\b\b\b\b\b\b\b\b\b\b 53% - sci-hub-doi-2022-02-12.txt\b\b\b\b\b\b\b\b\b\b\b\b\b\b\b\b\b\b\b\b\b\b\b\b\b\b\b\b\b\b\b\b\b                                 \b\b\b\b\b\b\b\b\b\b\b\b\b\b\b\b\b\b\b\b\b\b\b\b\b\b\b\b\b\b\b\b\b 54% - sci-hub-doi-2022-02-12.txt\b\b\b\b\b\b\b\b\b\b\b\b\b\b\b\b\b\b\b\b\b\b\b\b\b\b\b\b\b\b\b\b\b                                 \b\b\b\b\b\b\b\b\b\b\b\b\b\b\b\b\b\b\b\b\b\b\b\b\b\b\b\b\b\b\b\b\b 55% - sci-hub-doi-2022-02-12.txt\b\b\b\b\b\b\b\b\b\b\b\b\b\b\b\b\b\b\b\b\b\b\b\b\b\b\b\b\b\b\b\b\b                                 \b\b\b\b\b\b\b\b\b\b\b\b\b\b\b\b\b\b\b\b\b\b\b\b\b\b\b\b\b\b\b\b\b 56% - sci-hub-doi-2022-02-12.txt\b\b\b\b\b\b\b\b\b\b\b\b\b\b\b\b\b\b\b\b\b\b\b\b\b\b\b\b\b\b\b\b\b                                 \b\b\b\b\b\b\b\b\b\b\b\b\b\b\b\b\b\b\b\b\b\b\b\b\b\b\b\b\b\b\b\b\b 57% - sci-hub-doi-2022-02-12.txt\b\b\b\b\b\b\b\b\b\b\b\b\b\b\b\b\b\b\b\b\b\b\b\b\b\b\b\b\b\b\b\b\b                                 \b\b\b\b\b\b\b\b\b\b\b\b\b\b\b\b\b\b\b\b\b\b\b\b\b\b\b\b\b\b\b\b\b 58% - sci-hub-doi-2022-02-12.txt\b\b\b\b\b\b\b\b\b\b\b\b\b\b\b\b\b\b\b\b\b\b\b\b\b\b\b\b\b\b\b\b\b                                 \b\b\b\b\b\b\b\b\b\b\b\b\b\b\b\b\b\b\b\b\b\b\b\b\b\b\b\b\b\b\b\b\b 59% - sci-hub-doi-2022-02-12.txt\b\b\b\b\b\b\b\b\b\b\b\b\b\b\b\b\b\b\b\b\b\b\b\b\b\b\b\b\b\b\b\b\b                                 \b\b\b\b\b\b\b\b\b\b\b\b\b\b\b\b\b\b\b\b\b\b\b\b\b\b\b\b\b\b\b\b\b 60% - sci-hub-doi-2022-02-12.txt\b\b\b\b\b\b\b\b\b\b\b\b\b\b\b\b\b\b\b\b\b\b\b\b\b\b\b\b\b\b\b\b\b                                 \b\b\b\b\b\b\b\b\b\b\b\b\b\b\b\b\b\b\b\b\b\b\b\b\b\b\b\b\b\b\b\b\b 61% - sci-hub-doi-2022-02-12.txt\b\b\b\b\b\b\b\b\b\b\b\b\b\b\b\b\b\b\b\b\b\b\b\b\b\b\b\b\b\b\b\b\b                                 \b\b\b\b\b\b\b\b\b\b\b\b\b\b\b\b\b\b\b\b\b\b\b\b\b\b\b\b\b\b\b\b\b 62% - sci-hub-doi-2022-02-12.txt\b\b\b\b\b\b\b\b\b\b\b\b\b\b\b\b\b\b\b\b\b\b\b\b\b\b\b\b\b\b\b\b\b                                 \b\b\b\b\b\b\b\b\b\b\b\b\b\b\b\b\b\b\b\b\b\b\b\b\b\b\b\b\b\b\b\b\b 63% - sci-hub-doi-2022-02-12.txt\b\b\b\b\b\b\b\b\b\b\b\b\b\b\b\b\b\b\b\b\b\b\b\b\b\b\b\b\b\b\b\b\b                                 \b\b\b\b\b\b\b\b\b\b\b\b\b\b\b\b\b\b\b\b\b\b\b\b\b\b\b\b\b\b\b\b\b 64% - sci-hub-doi-2022-02-12.txt\b\b\b\b\b\b\b\b\b\b\b\b\b\b\b\b\b\b\b\b\b\b\b\b\b\b\b\b\b\b\b\b\b                                 \b\b\b\b\b\b\b\b\b\b\b\b\b\b\b\b\b\b\b\b\b\b\b\b\b\b\b\b\b\b\b\b\b 65% - sci-hub-doi-2022-02-12.txt\b\b\b\b\b\b\b\b\b\b\b\b\b\b\b\b\b\b\b\b\b\b\b\b\b\b\b\b\b\b\b\b\b                                 \b\b\b\b\b\b\b\b\b\b\b\b\b\b\b\b\b\b\b\b\b\b\b\b\b\b\b\b\b\b\b\b\b 66% - sci-hub-doi-2022-02-12.txt\b\b\b\b\b\b\b\b\b\b\b\b\b\b\b\b\b\b\b\b\b\b\b\b\b\b\b\b\b\b\b\b\b                                 \b\b\b\b\b\b\b\b\b\b\b\b\b\b\b\b\b\b\b\b\b\b\b\b\b\b\b\b\b\b\b\b\b 67% - sci-hub-doi-2022-02-12.txt\b\b\b\b\b\b\b\b\b\b\b\b\b\b\b\b\b\b\b\b\b\b\b\b\b\b\b\b\b\b\b\b\b                                 \b\b\b\b\b\b\b\b\b\b\b\b\b\b\b\b\b\b\b\b\b\b\b\b\b\b\b\b\b\b\b\b\b 68% - sci-hub-doi-2022-02-12.txt\b\b\b\b\b\b\b\b\b\b\b\b\b\b\b\b\b\b\b\b\b\b\b\b\b\b\b\b\b\b\b\b\b                                 \b\b\b\b\b\b\b\b\b\b\b\b\b\b\b\b\b\b\b\b\b\b\b\b\b\b\b\b\b\b\b\b\b 69% - sci-hub-doi-2022-02-12.txt\b\b\b\b\b\b\b\b\b\b\b\b\b\b\b\b\b\b\b\b\b\b\b\b\b\b\b\b\b\b\b\b\b                                 \b\b\b\b\b\b\b\b\b\b\b\b\b\b\b\b\b\b\b\b\b\b\b\b\b\b\b\b\b\b\b\b\b 70% - sci-hub-doi-2022-02-12.txt\b\b\b\b\b\b\b\b\b\b\b\b\b\b\b\b\b\b\b\b\b\b\b\b\b\b\b\b\b\b\b\b\b                                 \b\b\b\b\b\b\b\b\b\b\b\b\b\b\b\b\b\b\b\b\b\b\b\b\b\b\b\b\b\b\b\b\b 71% - sci-hub-doi-2022-02-12.txt\b\b\b\b\b\b\b\b\b\b\b\b\b\b\b\b\b\b\b\b\b\b\b\b\b\b\b\b\b\b\b\b\b                                 \b\b\b\b\b\b\b\b\b\b\b\b\b\b\b\b\b\b\b\b\b\b\b\b\b\b\b\b\b\b\b\b\b 72% - sci-hub-doi-2022-02-12.txt\b\b\b\b\b\b\b\b\b\b\b\b\b\b\b\b\b\b\b\b\b\b\b\b\b\b\b\b\b\b\b\b\b                                 \b\b\b\b\b\b\b\b\b\b\b\b\b\b\b\b\b\b\b\b\b\b\b\b\b\b\b\b\b\b\b\b\b 73% - sci-hub-doi-2022-02-12.txt\b\b\b\b\b\b\b\b\b\b\b\b\b\b\b\b\b\b\b\b\b\b\b\b\b\b\b\b\b\b\b\b\b                                 \b\b\b\b\b\b\b\b\b\b\b\b\b\b\b\b\b\b\b\b\b\b\b\b\b\b\b\b\b\b\b\b\b 74% - sci-hub-doi-2022-02-12.txt\b\b\b\b\b\b\b\b\b\b\b\b\b\b\b\b\b\b\b\b\b\b\b\b\b\b\b\b\b\b\b\b\b                                 \b\b\b\b\b\b\b\b\b\b\b\b\b\b\b\b\b\b\b\b\b\b\b\b\b\b\b\b\b\b\b\b\b 75% - sci-hub-doi-2022-02-12.txt\b\b\b\b\b\b\b\b\b\b\b\b\b\b\b\b\b\b\b\b\b\b\b\b\b\b\b\b\b\b\b\b\b                                 \b\b\b\b\b\b\b\b\b\b\b\b\b\b\b\b\b\b\b\b\b\b\b\b\b\b\b\b\b\b\b\b\b 76% - sci-hub-doi-2022-02-12.txt\b\b\b\b\b\b\b\b\b\b\b\b\b\b\b\b\b\b\b\b\b\b\b\b\b\b\b\b\b\b\b\b\b                                 \b\b\b\b\b\b\b\b\b\b\b\b\b\b\b\b\b\b\b\b\b\b\b\b\b\b\b\b\b\b\b\b\b 77% - sci-hub-doi-2022-02-12.txt\b\b\b\b\b\b\b\b\b\b\b\b\b\b\b\b\b\b\b\b\b\b\b\b\b\b\b\b\b\b\b\b\b                                 \b\b\b\b\b\b\b\b\b\b\b\b\b\b\b\b\b\b\b\b\b\b\b\b\b\b\b\b\b\b\b\b\b 78% - sci-hub-doi-2022-02-12.txt\b\b\b\b\b\b\b\b\b\b\b\b\b\b\b\b\b\b\b\b\b\b\b\b\b\b\b\b\b\b\b\b\b                                 \b\b\b\b\b\b\b\b\b\b\b\b\b\b\b\b\b\b\b\b\b\b\b\b\b\b\b\b\b\b\b\b\b 79% - sci-hub-doi-2022-02-12.txt\b\b\b\b\b\b\b\b\b\b\b\b\b\b\b\b\b\b\b\b\b\b\b\b\b\b\b\b\b\b\b\b\b                                 \b\b\b\b\b\b\b\b\b\b\b\b\b\b\b\b\b\b\b\b\b\b\b\b\b\b\b\b\b\b\b\b\b 80% - sci-hub-doi-2022-02-12.txt\b\b\b\b\b\b\b\b\b\b\b\b\b\b\b\b\b\b\b\b\b\b\b\b\b\b\b\b\b\b\b\b\b                                 \b\b\b\b\b\b\b\b\b\b\b\b\b\b\b\b\b\b\b\b\b\b\b\b\b\b\b\b\b\b\b\b\b 81% - sci-hub-doi-2022-02-12.txt\b\b\b\b\b\b\b\b\b\b\b\b\b\b\b\b\b\b\b\b\b\b\b\b\b\b\b\b\b\b\b\b\b                                 \b\b\b\b\b\b\b\b\b\b\b\b\b\b\b\b\b\b\b\b\b\b\b\b\b\b\b\b\b\b\b\b\b 82% - sci-hub-doi-2022-02-12.txt\b\b\b\b\b\b\b\b\b\b\b\b\b\b\b\b\b\b\b\b\b\b\b\b\b\b\b\b\b\b\b\b\b                                 \b\b\b\b\b\b\b\b\b\b\b\b\b\b\b\b\b\b\b\b\b\b\b\b\b\b\b\b\b\b\b\b\b 83% - sci-hub-doi-2022-02-12.txt\b\b\b\b\b\b\b\b\b\b\b\b\b\b\b\b\b\b\b\b\b\b\b\b\b\b\b\b\b\b\b\b\b                                 \b\b\b\b\b\b\b\b\b\b\b\b\b\b\b\b\b\b\b\b\b\b\b\b\b\b\b\b\b\b\b\b\b 84% - sci-hub-doi-2022-02-12.txt\b\b\b\b\b\b\b\b\b\b\b\b\b\b\b\b\b\b\b\b\b\b\b\b\b\b\b\b\b\b\b\b\b                                 \b\b\b\b\b\b\b\b\b\b\b\b\b\b\b\b\b\b\b\b\b\b\b\b\b\b\b\b\b\b\b\b\b 85% - sci-hub-doi-2022-02-12.txt\b\b\b\b\b\b\b\b\b\b\b\b\b\b\b\b\b\b\b\b\b\b\b\b\b\b\b\b\b\b\b\b\b                                 \b\b\b\b\b\b\b\b\b\b\b\b\b\b\b\b\b\b\b\b\b\b\b\b\b\b\b\b\b\b\b\b\b 86% - sci-hub-doi-2022-02-12.txt\b\b\b\b\b\b\b\b\b\b\b\b\b\b\b\b\b\b\b\b\b\b\b\b\b\b\b\b\b\b\b\b\b                                 \b\b\b\b\b\b\b\b\b\b\b\b\b\b\b\b\b\b\b\b\b\b\b\b\b\b\b\b\b\b\b\b\b 87% - sci-hub-doi-2022-02-12.txt\b\b\b\b\b\b\b\b\b\b\b\b\b\b\b\b\b\b\b\b\b\b\b\b\b\b\b\b\b\b\b\b\b                                 \b\b\b\b\b\b\b\b\b\b\b\b\b\b\b\b\b\b\b\b\b\b\b\b\b\b\b\b\b\b\b\b\b 88% - sci-hub-doi-2022-02-12.txt\b\b\b\b\b\b\b\b\b\b\b\b\b\b\b\b\b\b\b\b\b\b\b\b\b\b\b\b\b\b\b\b\b                                 \b\b\b\b\b\b\b\b\b\b\b\b\b\b\b\b\b\b\b\b\b\b\b\b\b\b\b\b\b\b\b\b\b 89% - sci-hub-doi-2022-02-12.txt\b\b\b\b\b\b\b\b\b\b\b\b\b\b\b\b\b\b\b\b\b\b\b\b\b\b\b\b\b\b\b\b\b                                 \b\b\b\b\b\b\b\b\b\b\b\b\b\b\b\b\b\b\b\b\b\b\b\b\b\b\b\b\b\b\b\b\b 90% - sci-hub-doi-2022-02-12.txt\b\b\b\b\b\b\b\b\b\b\b\b\b\b\b\b\b\b\b\b\b\b\b\b\b\b\b\b\b\b\b\b\b                                 \b\b\b\b\b\b\b\b\b\b\b\b\b\b\b\b\b\b\b\b\b\b\b\b\b\b\b\b\b\b\b\b\b 91% - sci-hub-doi-2022-02-12.txt\b\b\b\b\b\b\b\b\b\b\b\b\b\b\b\b\b\b\b\b\b\b\b\b\b\b\b\b\b\b\b\b\b                                 \b\b\b\b\b\b\b\b\b\b\b\b\b\b\b\b\b\b\b\b\b\b\b\b\b\b\b\b\b\b\b\b\b 92% - sci-hub-doi-2022-02-12.txt\b\b\b\b\b\b\b\b\b\b\b\b\b\b\b\b\b\b\b\b\b\b\b\b\b\b\b\b\b\b\b\b\b                                 \b\b\b\b\b\b\b\b\b\b\b\b\b\b\b\b\b\b\b\b\b\b\b\b\b\b\b\b\b\b\b\b\b 93% - sci-hub-doi-2022-02-12.txt\b\b\b\b\b\b\b\b\b\b\b\b\b\b\b\b\b\b\b\b\b\b\b\b\b\b\b\b\b\b\b\b\b                                 \b\b\b\b\b\b\b\b\b\b\b\b\b\b\b\b\b\b\b\b\b\b\b\b\b\b\b\b\b\b\b\b\b 94% - sci-hub-doi-2022-02-12.txt\b\b\b\b\b\b\b\b\b\b\b\b\b\b\b\b\b\b\b\b\b\b\b\b\b\b\b\b\b\b\b\b\b                                 \b\b\b\b\b\b\b\b\b\b\b\b\b\b\b\b\b\b\b\b\b\b\b\b\b\b\b\b\b\b\b\b\b 95% - sci-hub-doi-2022-02-12.txt\b\b\b\b\b\b\b\b\b\b\b\b\b\b\b\b\b\b\b\b\b\b\b\b\b\b\b\b\b\b\b\b\b                                 \b\b\b\b\b\b\b\b\b\b\b\b\b\b\b\b\b\b\b\b\b\b\b\b\b\b\b\b\b\b\b\b\b 96% - sci-hub-doi-2022-02-12.txt\b\b\b\b\b\b\b\b\b\b\b\b\b\b\b\b\b\b\b\b\b\b\b\b\b\b\b\b\b\b\b\b\b                                 \b\b\b\b\b\b\b\b\b\b\b\b\b\b\b\b\b\b\b\b\b\b\b\b\b\b\b\b\b\b\b\b\b 97% - sci-hub-doi-2022-02-12.txt\b\b\b\b\b\b\b\b\b\b\b\b\b\b\b\b\b\b\b\b\b\b\b\b\b\b\b\b\b\b\b\b\b                                 \b\b\b\b\b\b\b\b\b\b\b\b\b\b\b\b\b\b\b\b\b\b\b\b\b\b\b\b\b\b\b\b\b 98% - sci-hub-doi-2022-02-12.txt\b\b\b\b\b\b\b\b\b\b\b\b\b\b\b\b\b\b\b\b\b\b\b\b\b\b\b\b\b\b\b\b\b                                 \b\b\b\b\b\b\b\b\b\b\b\b\b\b\b\b\b\b\b\b\b\b\b\b\b\b\b\b\b\b\b\b\b 99% - sci-hub-doi-2022-02-12.txt\b\b\b\b\b\b\b\b\b\b\b\b\b\b\b\b\b\b\b\b\b\b\b\b\b\b\b\b\b\b\b\b\b                                 \b\b\b\b\b\b\b\b\b\b\b\b\b\b\b\b\b\b\b\b\b\b\b\b\b\b\b\b\b\b\b\b\b100% 1\b\b\b\b\b\b      \b\b\b\b\b\bEverything is Ok\n",
            "\n",
            "Size:       2257562818\n",
            "Compressed: 500810393\n"
          ]
        }
      ],
      "source": [
        "# Sci-Hub-DOIs herunterladen und entpacken.\n",
        "!wget https://www.sci-hub.st/datasets/dois-2022-02-12.7z\n",
        "!7za x dois-2022-02-12.7z"
      ]
    },
    {
      "cell_type": "code",
      "execution_count": 2,
      "metadata": {
        "id": "p-FIcM6cX-Hl"
      },
      "outputs": [],
      "source": [
        "# Alle Intelligent-Vehicle-DOIs rausgreppen und in dois.txt speichern.\n",
        "!grep -a 10.1109/tiv /content/sci-hub-doi-2022-02-12.txt > dois.txt"
      ]
    },
    {
      "cell_type": "code",
      "execution_count": 3,
      "metadata": {
        "colab": {
          "base_uri": "https://localhost:8080/"
        },
        "id": "hmUkY_fmZGJ_",
        "outputId": "1c04df85-4226-499e-9560-77366bc55d60"
      },
      "outputs": [
        {
          "output_type": "stream",
          "name": "stdout",
          "text": [
            "Cloning into 'scitopdf'...\n",
            "remote: Enumerating objects: 532, done.\u001b[K\n",
            "remote: Counting objects: 100% (121/121), done.\u001b[K\n",
            "remote: Compressing objects: 100% (64/64), done.\u001b[K\n",
            "remote: Total 532 (delta 63), reused 94 (delta 40), pack-reused 411\u001b[K\n",
            "Receiving objects: 100% (532/532), 4.14 MiB | 19.00 MiB/s, done.\n",
            "Resolving deltas: 100% (268/268), done.\n",
            "mkdir -p /usr/local/bin\n",
            "for script in bin/*; do \\\n",
            "\tcp -f $script /usr/local/bin/; \\\n",
            "\tchmod 755 /usr/local/$script; \\\n",
            "done\n",
            "mkdir -p /usr/local/man/man1\n",
            "cp -f scitopdf.1 /usr/local/man/man1/scitopdf.1\n",
            "chmod 644 /usr/local/man/man1/scitopdf.1\n"
          ]
        }
      ],
      "source": [
        "# scitopdf installieren\n",
        "!git clone https://github.com/dougy147/scitopdf\n",
        "!cd scitopdf && make install"
      ]
    },
    {
      "cell_type": "code",
      "execution_count": 4,
      "metadata": {
        "id": "IOIop1csZYY7",
        "colab": {
          "base_uri": "https://localhost:8080/"
        },
        "outputId": "4541c570-eb2d-4183-b9db-504a7435a779"
      },
      "outputs": [
        {
          "output_type": "stream",
          "name": "stdout",
          "text": [
            "^C\n"
          ]
        }
      ],
      "source": [
        "# Alle Intelligent-Vehicle-PDFs herunterladen und in input speichern. \n",
        "# Bei Paper 322 scheint es einen Fehler zu geben und Script hängt, läuft aber schließlich durch.\n",
        "!scitopdf -q -D /content/input -l dois.txt"
      ]
    },
    {
      "cell_type": "code",
      "execution_count": 5,
      "metadata": {
        "colab": {
          "base_uri": "https://localhost:8080/"
        },
        "id": "P2A0LobCWpWS",
        "outputId": "db1ae13e-12b9-449c-db52-7edb85611dfc"
      },
      "outputs": [
        {
          "output_type": "stream",
          "name": "stdout",
          "text": [
            "22\n"
          ]
        }
      ],
      "source": [
        "import os\n",
        "print(len([entry for entry in os.listdir(\"/content/input\") if os.path.isfile(os.path.join(\"/content/input\", entry))]))"
      ]
    },
    {
      "cell_type": "code",
      "execution_count": 6,
      "metadata": {
        "colab": {
          "base_uri": "https://localhost:8080/"
        },
        "id": "vtPTg58vG7NX",
        "outputId": "f666e369-3a4f-4d32-f0f2-8648b06557fe"
      },
      "outputs": [
        {
          "output_type": "stream",
          "name": "stdout",
          "text": [
            "--2023-01-26 01:03:23--  https://github.com/kermitt2/grobid/archive/0.7.2.zip\n",
            "Resolving github.com (github.com)... 140.82.114.3\n",
            "Connecting to github.com (github.com)|140.82.114.3|:443... connected.\n",
            "HTTP request sent, awaiting response... 302 Found\n",
            "Location: https://codeload.github.com/kermitt2/grobid/zip/refs/tags/0.7.2 [following]\n",
            "--2023-01-26 01:03:23--  https://codeload.github.com/kermitt2/grobid/zip/refs/tags/0.7.2\n",
            "Resolving codeload.github.com (codeload.github.com)... 140.82.113.9\n",
            "Connecting to codeload.github.com (codeload.github.com)|140.82.113.9|:443... connected.\n",
            "HTTP request sent, awaiting response... 200 OK\n",
            "Length: unspecified [application/zip]\n",
            "Saving to: ‘0.7.2.zip’\n",
            "\n",
            "0.7.2.zip               [    <=>             ] 348.69M  5.62MB/s    in 55s     \n",
            "\n",
            "2023-01-26 01:04:18 (6.35 MB/s) - ‘0.7.2.zip’ saved [365626656]\n",
            "\n"
          ]
        }
      ],
      "source": [
        "# GrobId herunterladen und unzippen\n",
        "!wget https://github.com/kermitt2/grobid/archive/0.7.2.zip\n",
        "!unzip -q 0.7.2.zip"
      ]
    },
    {
      "cell_type": "code",
      "execution_count": null,
      "metadata": {
        "id": "jKYwhW6fbebS"
      },
      "outputs": [],
      "source": [
        "#!rm -r /content/grobid-0.7.2/\n",
        "!rm -r /content/0.7.2.zip\n",
        "!rm -r /content/0.7.2.zip.1"
      ]
    },
    {
      "cell_type": "code",
      "execution_count": 7,
      "metadata": {
        "colab": {
          "base_uri": "https://localhost:8080/"
        },
        "id": "OowjzRYFHS1u",
        "outputId": "8c366119-5782-487a-a6a7-b231676e27d4"
      },
      "outputs": [
        {
          "output_type": "stream",
          "name": "stdout",
          "text": [
            "Downloading https://services.gradle.org/distributions/gradle-7.1.1-bin.zip\n",
            "..........10%...........20%...........30%..........40%...........50%...........60%..........70%...........80%...........90%...........100%\n",
            "\n",
            "Welcome to Gradle 7.1.1!\n",
            "\n",
            "Here are the highlights of this release:\n",
            " - Faster incremental Java compilation\n",
            " - Easier source set configuration in the Kotlin DSL\n",
            "\n",
            "For more details see https://docs.gradle.org/7.1.1/release-notes.html\n",
            "\n",
            "Starting a Gradle Daemon (subsequent builds will be faster)\n",
            "\n",
            "\n",
            "\u001b[2A\u001b[1B\u001b[1m> Starting Daemon\u001b[m\u001b[17D\u001b[1B\u001b[1A\u001b[1m> Starting Daemon > Connecting to Daemon\u001b[m\u001b[40D\u001b[1B\u001b[1A> IDLE\u001b[0K\u001b[6D\u001b[1B\u001b[2A\u001b[1m<\u001b[0;1m-------------> 0% INITIALIZING [64ms]\u001b[m\u001b[38D\u001b[2B\u001b[2A\u001b[1m<\u001b[0;1m-------------> 0% INITIALIZING [165ms]\u001b[m\u001b[39D\u001b[2B\u001b[2A\u001b[1m<\u001b[0;1m-------------> 0% INITIALIZING [265ms]\u001b[m\u001b[39D\u001b[2B\u001b[2A\u001b[1m<\u001b[0;1m-------------> 0% INITIALIZING [364ms]\u001b[m\u001b[39D\u001b[2B\u001b[2A\u001b[1m<\u001b[0;1m-------------> 0% INITIALIZING [464ms]\u001b[m\u001b[39D\u001b[2B\u001b[2A\u001b[1m<\u001b[0;1m-------------> 0% INITIALIZING [565ms]\u001b[m\u001b[39D\u001b[2B\u001b[2A\u001b[1m<\u001b[0;1m-------------> 0% INITIALIZING [664ms]\u001b[m\u001b[39D\u001b[2B\u001b[2A\u001b[1m<\u001b[0;1m-------------> 0% INITIALIZING [764ms]\u001b[m\u001b[39D\u001b[2B\u001b[2A\u001b[1m<\u001b[0;1m-------------> 0% INITIALIZING [864ms]\u001b[m\u001b[39D\u001b[2B\u001b[2A\u001b[1m<\u001b[0;1m-------------> 0% INITIALIZING [965ms]\u001b[m\u001b[39D\u001b[2B\u001b[2A\u001b[1m<\u001b[0;1m-------------> 0% INITIALIZING [1s]\u001b[m\u001b[0K\u001b[36D\u001b[2B\u001b[1A\u001b[1m> Evaluating settings\u001b[m\u001b[21D\u001b[1B\u001b[2A\u001b[1m<\u001b[0;1m-------------> 0% INITIALIZING [2s]\u001b[m\u001b[36D\u001b[2B\u001b[2A\u001b[1m<\u001b[0;1m-------------> 0% INITIALIZING [3s]\u001b[m\u001b[36D\u001b[1B\u001b[1m> Evaluating settings > Compiling settings file 'settings.gradle'\u001b[m\u001b[65D\u001b[1B\u001b[1A\u001b[1m> Evaluating settings\u001b[m\u001b[0K\u001b[21D\u001b[1B\u001b[1A\u001b[1m> Evaluating settings > Compiling settings file 'settings.gradle'\u001b[m\u001b[65D\u001b[1B\u001b[2A\u001b[1m<\u001b[0;1m-------------> 0% INITIALIZING [4s]\u001b[m\u001b[36D\u001b[1B\u001b[1m> Evaluating settings\u001b[m\u001b[0K\u001b[21D\u001b[1B\u001b[1A> IDLE\u001b[0K\u001b[6D\u001b[1B\u001b[2A\u001b[1m<\u001b[0;1m-------------> 0% CONFIGURING [4s]\u001b[m\u001b[0K\u001b[35D\u001b[1B\u001b[1m> Loading projects\u001b[m\u001b[18D\u001b[1B\u001b[1A\u001b[1m> root project\u001b[m\u001b[0K\u001b[14D\u001b[1B\u001b[1A\u001b[1m> root project > Compiling build file 'build.gradle'\u001b[m\u001b[52D\u001b[1B\u001b[2A\u001b[1m<\u001b[0;1m-------------> 0% CONFIGURING [5s]\u001b[m\u001b[35D\u001b[2B\u001b[2A\u001b[1m<\u001b[0;1m-------------> 0% CONFIGURING [6s]\u001b[m\u001b[35D\u001b[2B\u001b[2A\u001b[1m<\u001b[0;1m-------------> 0% CONFIGURING [7s]\u001b[m\u001b[35D\u001b[2B\u001b[1A\u001b[1m> root project\u001b[m\u001b[0K\u001b[14D\u001b[1B\u001b[2A\u001b[1m<\u001b[0;1m-------------> 0% CONFIGURING [8s]\u001b[m\u001b[35D\u001b[2B\u001b[1A\u001b[1m> root project > Resolve dependencies of :classpath\u001b[m\u001b[51D\u001b[1B\u001b[1A\u001b[1m> root project > Resolve dependencies of :classpath > coveralls-gradle-plugin-2\u001b[m\u001b[79D\u001b[1B\u001b[2A\u001b[1m<\u001b[0;1m-------------> 0% CONFIGURING [9s]\u001b[m\u001b[35D\u001b[2B\u001b[1A\u001b[1m> root project > Resolve dependencies of :classpath\u001b[m\u001b[0K\u001b[51D\u001b[1B\u001b[2A\u001b[1m<\u001b[0;1m-------------> 0% CONFIGURING [10s]\u001b[m\u001b[36D\u001b[1B\u001b[1m> root project > Resolve dependencies of :classpath > shadow-7.0.0.pom\u001b[m\u001b[70D\u001b[1B\u001b[1A\u001b[1m> root project > Resolve dependencies of :classpath\u001b[m\u001b[0K\u001b[51D\u001b[1B\u001b[1A\u001b[1m> root project > Resolve dependencies of :classpath > gradle-test-logger-plugin\u001b[m\u001b[79D\u001b[1B\u001b[1A\u001b[1m> root project > Resolve dependencies of :classpath > http-builder-0.7.1.pom\u001b[m\u001b[0K\u001b[76D\u001b[1B\u001b[1A\u001b[1m> root project > Resolve dependencies of :classpath\u001b[m\u001b[0K\u001b[51D\u001b[1B\u001b[1A\u001b[1m> root project > Resolve dependencies of :classpath > org.eclipse.jgit-parent-5\u001b[m\u001b[79D\u001b[1B\u001b[1A\u001b[1m> root project > Resolve dependencies of :classpath > plugin-publish-plugin-0.1\u001b[m\u001b[79D\u001b[1B\u001b[1A\u001b[1m> root project > Resolve dependencies of :classpath\u001b[m\u001b[0K\u001b[51D\u001b[1B\u001b[2A\u001b[1m<\u001b[0;1m-------------> 0% CONFIGURING [11s]\u001b[m\u001b[36D\u001b[1B\u001b[1m> root project > Resolve dependencies of :classpath > asm-9.1.pom > 2.3 KiB/2.3\u001b[m\u001b[79D\u001b[1B\u001b[1A\u001b[1m> root project > Resolve dependencies of :classpath > log4j-core-2.14.1.pom\u001b[m\u001b[0K\u001b[75D\u001b[1B\u001b[1A\u001b[1m> root project > Resolve dependencies of :classpath\u001b[m\u001b[0K\u001b[51D\u001b[1B\u001b[1A\u001b[1m> root project > Resolve dependencies of :classpath > plexus-utils-3.3.0.pom\u001b[m\u001b[76D\u001b[1B\u001b[1A\u001b[1m> root project > Resolve dependencies of :classpath\u001b[m\u001b[0K\u001b[51D\u001b[1B\u001b[1A\u001b[1m> root project > Resolve dependencies of :classpath > jansi-1.18.pom\u001b[m\u001b[68D\u001b[1B\u001b[1A\u001b[1m> root project > Resolve dependencies of :classpath\u001b[m\u001b[0K\u001b[51D\u001b[1B\u001b[1A\u001b[1m> root project > Resolve dependencies of :classpath > project-6.pom\u001b[m\u001b[67D\u001b[1B\u001b[2A\u001b[1m<\u001b[0;1m-------------> 0% CONFIGURING [12s]\u001b[m\u001b[36D\u001b[1B\u001b[1m> root project > Resolve dependencies of :classpath\u001b[m\u001b[0K\u001b[51D\u001b[1B\u001b[1A\u001b[1m> root project > Resolve dependencies of :classpath > oss-parent-6.pom\u001b[m\u001b[70D\u001b[1B\u001b[1A\u001b[1m> root project > Resolve dependencies of :classpath\u001b[m\u001b[0K\u001b[51D\u001b[1B\u001b[1A\u001b[1m> root project > Resolve dependencies of :classpath > maven-model-3.0.4.pom\u001b[m\u001b[75D\u001b[1B\u001b[1A\u001b[1m> root project > Resolve dependencies of :classpath > apache-10.pom\u001b[m\u001b[0K\u001b[67D\u001b[1B\u001b[1A\u001b[1m> root project > Resolve dependencies of :classpath\u001b[m\u001b[0K\u001b[51D\u001b[1B\u001b[2A\u001b[1m<\u001b[0;1m-------------> 0% CONFIGURING [13s]\u001b[m\u001b[36D\u001b[1B\u001b[1m> root project > Resolve dependencies of :classpath > commons-parent-9.pom > 8 \u001b[m\u001b[79D\u001b[1B\u001b[1A\u001b[1m> root project > Resolve dependencies of :classpath > commons-logging-1.1.1.pom\u001b[m\u001b[79D\u001b[1B\u001b[1A\u001b[1m> root project > Resolve dependencies of :classpath\u001b[m\u001b[0K\u001b[51D\u001b[1B\u001b[1A\u001b[1m> root project > Resolve dependencies of :classpath > commons-parent-34.pom\u001b[m\u001b[75D\u001b[1B\u001b[1A\u001b[1m> root project > Resolve dependencies of :classpath > httpcore-4.4.13.pom\u001b[m\u001b[0K\u001b[73D\u001b[1B\u001b[1A\u001b[1m> root project > Resolve dependencies of :classpath\u001b[m\u001b[0K\u001b[51D\u001b[1B\u001b[1A\u001b[1m> root project > Resolve files of :classpath > coveralls-gradle-plugin-2.12.0.j\u001b[m\u001b[79D\u001b[1B\u001b[2A\u001b[1m<\u001b[0;1m-------------> 0% CONFIGURING [14s]\u001b[m\u001b[36D\u001b[2B\u001b[1A\u001b[1m> root project > Resolve files of :classpath > ant-1.10.9.jar\u001b[m\u001b[0K\u001b[61D\u001b[1B\u001b[1A\u001b[1m> root project > Resolve files of :classpath > ant-1.10.9.jar > 1.1 MiB/2.1 MiB\u001b[m\u001b[79D\u001b[1B\u001b[1A\u001b[1m> root project > Resolve files of :classpath > plexus-utils-3.3.0.jar\u001b[m\u001b[0K\u001b[69D\u001b[1B\u001b[1A\u001b[1m> root project > Resolve files of :classpath > log4j-core-2.14.1.jar > 946.3 Ki\u001b[m\u001b[79D\u001b[1B\u001b[1A\u001b[1m> root project > Resolve files of :classpath > jansi-1.18.jar > 32 KiB/280.6 Ki\u001b[m\u001b[79D\u001b[1B\u001b[1A\u001b[1m> root project > Resolve files of :classpath > httpclient-4.5.11.jar > 374.1 Ki\u001b[m\u001b[79D\u001b[1B\u001b[1A\u001b[1m> root project > Resolve files of :classpath > xml-resolver-1.2.jar\u001b[m\u001b[0K\u001b[67D\u001b[1B\u001b[1A\u001b[1m> root project > Resolve files of :classpath > bcpg-jdk15on-1.61.jar\u001b[m\u001b[68D\u001b[1B\u001b[1A\u001b[1m> root project > Resolve files of :classpath\u001b[m\u001b[0K\u001b[44D\u001b[1B\u001b[2A\u001b[1m<\u001b[0;1m-------------> 0% CONFIGURING [15s]\u001b[m\u001b[36D\u001b[1B\u001b[1m> root project > Resolve files of :classpath > bcprov-jdk15on-1.61.jar > 1.6 Mi\u001b[m\u001b[79D\u001b[1B\u001b[1A\u001b[1m> root project > Resolve files of :classpath > bcprov-jdk15on-1.61.jar > 4.2 Mi\u001b[m\u001b[79D\u001b[1B\u001b[1A\u001b[1m> root project > Resolve files of :classpath > ant-launcher-1.10.9.jar\u001b[m\u001b[0K\u001b[70D\u001b[1B\u001b[1A\u001b[1m> root project > Resolve files of :classpath > commons-collections-3.2.1.jar > \u001b[m\u001b[79D\u001b[1B\u001b[1A\u001b[1m> root project > Resolve files of :classpath > xercesImpl-2.9.1.jar > 563.6 KiB\u001b[m\u001b[79D\u001b[1B\u001b[1A\u001b[1m> root project > Resolve files of :classpath\u001b[m\u001b[0K\u001b[44D\u001b[1B\u001b[1A\u001b[1m> root project > Resolve files of :classpath > shadow-7.0.0.jar > 1022.3 KiB/6.\u001b[m\u001b[79D\u001b[1B\u001b[1A\u001b[1m> root project > Resolve files of :classpath > shadow-7.0.0.jar > 4.3 MiB/6.3 M\u001b[m\u001b[79D\u001b[1B\u001b[1A\u001b[1m> root project > Resolve files of :classpath > gradle-test-logger-plugin-2.0.0.\u001b[m\u001b[79D\u001b[1B\u001b[2A\u001b[1m<\u001b[0;1m-------------> 0% CONFIGURING [16s]\u001b[m\u001b[36D\u001b[1B\u001b[1m> root project > Resolve files of :classpath > http-builder-0.7.1.jar\u001b[m\u001b[0K\u001b[69D\u001b[1B\u001b[1A\u001b[1m> root project > Resolve files of :classpath > org.eclipse.jgit-5.5.1.201910021\u001b[m\u001b[79D\u001b[1B\u001b[1A\u001b[1m> root project > Resolve files of :classpath > plugin-publish-plugin-0.14.0.jar\u001b[m\u001b[79D\u001b[1B\u001b[1A\u001b[1m> root project\u001b[m\u001b[0K\u001b[14D\u001b[1B\u001b[2A\u001b[1m<\u001b[0;1m-------------> 0% CONFIGURING [17s]\u001b[m\u001b[36D\u001b[2B\u001b[2A\u001b[1m<\u001b[0;1m-------------> 0% CONFIGURING [18s]\u001b[m\u001b[36D\u001b[2B\u001b[2A\u001b[1m<\u001b[0;1m-------------> 0% CONFIGURING [19s]\u001b[m\u001b[36D\u001b[2B\u001b[2A\u001b[1m<\u001b[0;1m-------------> 0% CONFIGURING [20s]\u001b[m\u001b[36D\u001b[2B\u001b[2A\u001b[1m<\u001b[0;1m-------------> 0% CONFIGURING [21s]\u001b[m\u001b[36D\u001b[2B\u001b[2A\u001b[1m<\u001b[0;1m-------------> 0% CONFIGURING [22s]\u001b[m\u001b[36D\u001b[1B\u001b[1m> root project > Compiling build file 'build.gradle'\u001b[m\u001b[52D\u001b[1B\u001b[2A\u001b[1m<\u001b[0;1m-------------> 0% CONFIGURING [23s]\u001b[m\u001b[36D\u001b[2B\u001b[2A\u001b[1m<\u001b[0;1m-------------> 0% CONFIGURING [24s]\u001b[m\u001b[36D\u001b[2B\u001b[1A\u001b[1m> root project\u001b[m\u001b[0K\u001b[14D\u001b[1B\u001b[2A\u001b[1m<\u001b[0;1m-------------> 0% CONFIGURING [25s]\u001b[m\u001b[36D\u001b[2B\u001b[2A\u001b[1m<\u001b[0;1m-------------> 0% CONFIGURING [26s]\u001b[m\u001b[36D\u001b[2B\u001b[2A\u001b[1m<\u001b[0;1m-------------> 0% CONFIGURING [27s]\u001b[m\u001b[36D\u001b[2B\u001b[2A\u001b[1m<\u001b[0;32;1m==\u001b[0;39;1m-----------> 20% CONFIGURING [27s]\u001b[m\u001b[37D\u001b[1B\u001b[1m> :grobid-core\u001b[m\u001b[14D\u001b[1B\u001b[2A\u001b[1m<\u001b[0;32;1m==========\u001b[0;39;1m---> 80% CONFIGURING [28s]\u001b[m\u001b[37D\u001b[1B\u001b[1m> :grobid-trainer\u001b[m\u001b[17D\u001b[1B\u001b[2A\u001b[1m<\u001b[0;32;1m=============\u001b[0;39;1m> 100% CONFIGURING [28s]\u001b[m\u001b[38D\u001b[1B> IDLE\u001b[0K\u001b[6D\u001b[1B\u001b[1A\u001b[1m> Resolve dependencies of :grobid-core:runtimeClasspath\u001b[m\u001b[55D\u001b[1B\u001b[1A\u001b[1m> Resolve dependencies of :grobid-core:runtimeClasspath > slf4j-api-1.7.25.pom\u001b[m\u001b[78D\u001b[1B\u001b[1A\u001b[1m> Resolve dependencies of :grobid-core:runtimeClasspath > commons-parent-38.pom\u001b[m\u001b[79D\u001b[1B\u001b[1A\u001b[1m> Resolve dependencies of :grobid-core:runtimeClasspath > commons-text-1.8.pom\u001b[m\u001b[0K\u001b[78D\u001b[1B\u001b[1A\u001b[1m> Resolve dependencies of :grobid-core:runtimeClasspath > commons-parent-40.pom\u001b[m\u001b[79D\u001b[1B\u001b[1A\u001b[1m> Resolve dependencies of :grobid-core:runtimeClasspath\u001b[m\u001b[0K\u001b[55D\u001b[1B\u001b[2A\u001b[1m<\u001b[0;32;1m=============\u001b[0;39;1m> 100% CONFIGURING [29s]\u001b[m\u001b[38D\u001b[2B\u001b[1A\u001b[1m> Resolve dependencies of :grobid-core:runtimeClasspath > jackson-module-afterb\u001b[m\u001b[79D\u001b[1B\u001b[1A\u001b[1m> Resolve dependencies of :grobid-core:runtimeClasspath > jackson-dataformat-ya\u001b[m\u001b[79D\u001b[1B\u001b[1A\u001b[1m> Resolve dependencies of :grobid-core:runtimeClasspath\u001b[m\u001b[0K\u001b[55D\u001b[1B\u001b[1A\u001b[1m> Resolve dependencies of :grobid-core:runtimeClasspath > pdfbox-parent-2.0.18.\u001b[m\u001b[79D\u001b[1B\u001b[1A\u001b[1m> Resolve dependencies of :grobid-core:runtimeClasspath > lucene-analyzers-comm\u001b[m\u001b[79D\u001b[1B\u001b[1A\u001b[1m> Resolve dependencies of :grobid-core:runtimeClasspath\u001b[m\u001b[0K\u001b[55D\u001b[1B\u001b[1A\u001b[1m> Resolve dependencies of :grobid-core:runtimeClasspath > jruby-complete-9.2.13\u001b[m\u001b[79D\u001b[1B\u001b[1A\u001b[1m> Resolve dependencies of :grobid-core:runtimeClasspath > slf4j-jdk14-1.7.25.po\u001b[m\u001b[79D\u001b[1B\u001b[1A\u001b[1m> Resolve dependencies of :grobid-core:runtimeClasspath > jsonic-1.3.10.pom\u001b[m\u001b[0K\u001b[75D\u001b[1B\u001b[2A\u001b[1m<\u001b[0;32;1m=============\u001b[0;39;1m> 100% CONFIGURING [30s]\u001b[m\u001b[38D\u001b[1B\u001b[1m> Resolve dependencies of :grobid-core:runtimeClasspath > Saxon-HE-9.6.0-9.pom\u001b[m\u001b[78D\u001b[1B\u001b[1A\u001b[1m> Resolve dependencies of :grobid-core:runtimeClasspath > xom-1.3.2.pom\u001b[m\u001b[0K\u001b[71D\u001b[1B\u001b[1A\u001b[1m> Resolve dependencies of :grobid-core:runtimeClasspath > jvnet-parent-5.pom\u001b[m\u001b[76D\u001b[1B\u001b[1A\u001b[1m> Resolve dependencies of :grobid-core:runtimeClasspath\u001b[m\u001b[0K\u001b[55D\u001b[1B\u001b[1A\u001b[1m> Resolve dependencies of :grobid-core:runtimeClasspath > guava-parent-26.0-and\u001b[m\u001b[79D\u001b[1B\u001b[1A\u001b[1m> Resolve dependencies of :grobid-core:runtimeClasspath\u001b[m\u001b[0K\u001b[55D\u001b[1B\u001b[1A\u001b[1m> Resolve dependencies of :grobid-core:runtimeClasspath > fontbox-2.0.18.pom > \u001b[m\u001b[79D\u001b[1B\u001b[1A\u001b[1m> Resolve files of :grobid-core:runtimeClasspath > slf4j-jdk14-1.7.25.jar\u001b[m\u001b[0K\u001b[73D\u001b[1B\u001b[2A\u001b[1m<\u001b[0;32;1m=============\u001b[0;39;1m> 100% CONFIGURING [31s]\u001b[m\u001b[38D\u001b[1B\u001b[1m> Resolve files of :grobid-core:runtimeClasspath > commons-collections4-4.1.jar\u001b[m\u001b[79D\u001b[1B\u001b[1A\u001b[1m> Resolve files of :grobid-core:runtimeClasspath > guava-28.2-jre.jar > 1.9 MiB\u001b[m\u001b[79D\u001b[1B\u001b[1A\u001b[1m> Resolve files of :grobid-core:runtimeClasspath > jep-4.0.2.jar\u001b[m\u001b[0K\u001b[64D\u001b[1B\u001b[1A\u001b[1m> Resolve files of :grobid-core:runtimeClasspath > jackson-databind-2.10.1.jar \u001b[m\u001b[79D\u001b[1B\u001b[1A\u001b[1m> Resolve files of :grobid-core:runtimeClasspath > jackson-core-2.10.1.jar > 34\u001b[m\u001b[79D\u001b[1B\u001b[1A\u001b[1m> Resolve files of :grobid-core:runtimeClasspath > xml-apis-1.4.01.jar\u001b[m\u001b[0K\u001b[70D\u001b[1B\u001b[1A\u001b[1m> Resolve files of :grobid-core:runtimeClasspath\u001b[m\u001b[0K\u001b[48D\u001b[1B\u001b[1A\u001b[1m> Resolve files of :grobid-core:runtimeClasspath > lucene-analyzers-common-4.5.\u001b[m\u001b[79D\u001b[1B\u001b[1A\u001b[1m> Resolve files of :grobid-core:runtimeClasspath > jruby-complete-9.2.13.0.jar\u001b[m\u001b[0K\u001b[78D\u001b[1B\u001b[1A\u001b[1m> Resolve files of :grobid-core:runtimeClasspath > jruby-complete-9.2.13.0.jar \u001b[m\u001b[79D\u001b[1B\u001b[2A\u001b[1m<\u001b[0;32;1m=============\u001b[0;39;1m> 100% CONFIGURING [32s]\u001b[m\u001b[38D\u001b[2B\u001b[1A\u001b[1m> Resolve files of :grobid-core:runtimeClasspath\u001b[m\u001b[0K\u001b[48D\u001b[1B\u001b[1A\u001b[1m> Resolve files of :grobid-core:runtimeClasspath > error_prone_annotations-2.3.\u001b[m\u001b[79D\u001b[1B\u001b[1A\u001b[1m> Resolve files of :grobid-core:runtimeClasspath > fontbox-2.0.18.jar > 1.2 MiB\u001b[m\u001b[79D\u001b[1B\u001b[1A\u001b[1m> Resolve files of :grobid-core:runtimeClasspath > lucene-core-4.5.1.jar\u001b[m\u001b[0K\u001b[72D\u001b[1B\u001b[2A\u001b[1m<\u001b[0;32;1m=============\u001b[0;39;1m> 100% CONFIGURING [33s]\u001b[m\u001b[38D\u001b[1B\u001b[1m> Resolve files of :grobid-core:runtimeClasspath > jsonic-1.3.10.jar > 199.4 Ki\u001b[m\u001b[79D\u001b[1B\u001b[1A\u001b[1m> Resolve files of :grobid-core:runtimeClasspath > stringmetric-core_2.10-0.27.\u001b[m\u001b[79D\u001b[1B\u001b[1A\u001b[1m> Resolve files of :grobid-core:runtimeClasspath > xom-1.3.2.jar\u001b[m\u001b[0K\u001b[64D\u001b[1B\u001b[1A\u001b[1m> Resolve files of :grobid-core:runtimeClasspath > Saxon-HE-9.6.0-9.jar\u001b[m\u001b[71D\u001b[1B\u001b[1A\u001b[1m> Resolve files of :grobid-core:runtimeClasspath\u001b[m\u001b[0K\u001b[48D\u001b[1B\u001b[1A> IDLE\u001b[0K\u001b[6D\u001b[1B\u001b[1A\u001b[1m> Resolve dependencies of :grobid-service:runtimeClasspath\u001b[m\u001b[58D\u001b[1B\u001b[1A\u001b[1m> Resolve dependencies of :grobid-service:runtimeClasspath > simpleclient_servl\u001b[m\u001b[79D\u001b[1B\u001b[1A\u001b[1m> Resolve dependencies of :grobid-service:runtimeClasspath\u001b[m\u001b[0K\u001b[58D\u001b[1B\u001b[1A\u001b[1m> Resolve dependencies of :grobid-service:runtimeClasspath > basepom-oss-27.pom\u001b[m\u001b[79D\u001b[1B\u001b[2A\u001b[1m<\u001b[0;32;1m=============\u001b[0;39;1m> 100% CONFIGURING [34s]\u001b[m\u001b[38D\u001b[1B\u001b[1m> Resolve dependencies of :grobid-service:runtimeClasspath > jackson-bom-2.9.10\u001b[m\u001b[79D\u001b[1B\u001b[1A\u001b[1m> Resolve dependencies of :grobid-service:runtimeClasspath > jersey-bom-2.25.1.\u001b[m\u001b[79D\u001b[1B\u001b[1A\u001b[1m> Resolve dependencies of :grobid-service:runtimeClasspath\u001b[m\u001b[0K\u001b[58D\u001b[1B\u001b[1A\u001b[1m> Resolve dependencies of :grobid-service:runtimeClasspath > basepom-oss-25.pom\u001b[m\u001b[79D\u001b[1B\u001b[1A\u001b[1m> Resolve dependencies of :grobid-service:runtimeClasspath\u001b[m\u001b[0K\u001b[58D\u001b[1B\u001b[2A\u001b[1m<\u001b[0;32;1m=============\u001b[0;39;1m> 100% CONFIGURING [35s]\u001b[m\u001b[38D\u001b[2B\u001b[1A\u001b[1m> Resolve dependencies of :grobid-service:runtimeClasspath > metrics-jvm-4.0.5.\u001b[m\u001b[79D\u001b[1B\u001b[1A\u001b[1m> Resolve dependencies of :grobid-service:runtimeClasspath\u001b[m\u001b[0K\u001b[58D\u001b[1B\u001b[1A\u001b[1m> Resolve dependencies of :grobid-service:runtimeClasspath > argparse4j-root-0.\u001b[m\u001b[79D\u001b[1B\u001b[1A\u001b[1m> Resolve dependencies of :grobid-service:runtimeClasspath\u001b[m\u001b[0K\u001b[58D\u001b[1B\u001b[1A\u001b[1m> Resolve dependencies of :grobid-service:runtimeClasspath > dropwizard-jersey-\u001b[m\u001b[79D\u001b[1B\u001b[1A\u001b[1m> Resolve dependencies of :grobid-service:runtimeClasspath\u001b[m\u001b[0K\u001b[58D\u001b[1B\u001b[2A\u001b[1m<\u001b[0;32;1m=============\u001b[0;39;1m> 100% CONFIGURING [36s]\u001b[m\u001b[38D\u001b[2B\u001b[1A\u001b[1m> Resolve dependencies of :grobid-service:runtimeClasspath > google-5.pom\u001b[m\u001b[73D\u001b[1B\u001b[1A\u001b[1m> Resolve dependencies of :grobid-service:runtimeClasspath > hk2-parent-2.5.0-b\u001b[m\u001b[79D\u001b[1B\u001b[1A\u001b[1m> Resolve dependencies of :grobid-service:runtimeClasspath > project-2.25.1.pom\u001b[m\u001b[79D\u001b[1B\u001b[1A\u001b[1m> Resolve dependencies of :grobid-service:runtimeClasspath\u001b[m\u001b[0K\u001b[58D\u001b[1B\u001b[1A\u001b[1m> Resolve dependencies of :grobid-service:runtimeClasspath > project-2.25.1.pom\u001b[m\u001b[79D\u001b[1B\u001b[1A\u001b[1m> Resolve dependencies of :grobid-service:runtimeClasspath > assertj-core-3.9.1\u001b[m\u001b[79D\u001b[1B\u001b[1A\u001b[1m> Resolve dependencies of :grobid-service:runtimeClasspath > jersey-media-multi\u001b[m\u001b[79D\u001b[1B\u001b[2A\u001b[1m<\u001b[0;32;1m=============\u001b[0;39;1m> 100% CONFIGURING [37s]\u001b[m\u001b[38D\u001b[1B\u001b[1m> Resolve dependencies of :grobid-service:runtimeClasspath > httpclient-4.5.10.\u001b[m\u001b[79D\u001b[1B\u001b[1A\u001b[1m> Resolve dependencies of :grobid-service:runtimeClasspath > project-2.25.1.pom\u001b[m\u001b[79D\u001b[1B\u001b[1A\u001b[1m> Resolve dependencies of :grobid-service:runtimeClasspath\u001b[m\u001b[0K\u001b[58D\u001b[1B\u001b[1A\u001b[1m> Resolve dependencies of :grobid-service:runtimeClasspath > slf4j-api-1.7.26.p\u001b[m\u001b[79D\u001b[1B\u001b[1A\u001b[1m> Resolve dependencies of :grobid-service:runtimeClasspath\u001b[m\u001b[0K\u001b[58D\u001b[1B\u001b[1A\u001b[1m> Resolve dependencies of :grobid-service:runtimeClasspath > jackson-datatype-j\u001b[m\u001b[79D\u001b[1B\u001b[1A\u001b[1m> Resolve dependencies of :grobid-service:runtimeClasspath\u001b[m\u001b[0K\u001b[58D\u001b[1B\u001b[1A\u001b[1m> Resolve dependencies of :grobid-service:runtimeClasspath > hibernate-validato\u001b[m\u001b[79D\u001b[1B\u001b[2A\u001b[1m<\u001b[0;32;1m=============\u001b[0;39;1m> 100% CONFIGURING [38s]\u001b[m\u001b[38D\u001b[1B\u001b[1m> Resolve dependencies of :grobid-service:runtimeClasspath > shrinkwrap-descrip\u001b[m\u001b[79D\u001b[1B\u001b[1A\u001b[1m> Resolve dependencies of :grobid-service:runtimeClasspath > jul-to-slf4j-1.7.2\u001b[m\u001b[79D\u001b[1B\u001b[1A\u001b[1m> Resolve dependencies of :grobid-service:runtimeClasspath > logback-core-1.2.3\u001b[m\u001b[79D\u001b[1B\u001b[1A\u001b[1m> Resolve dependencies of :grobid-service:runtimeClasspath\u001b[m\u001b[0K\u001b[58D\u001b[1B\u001b[1A\u001b[1m> Resolve dependencies of :grobid-service:runtimeClasspath > jetty-webapp-9.4.1\u001b[m\u001b[79D\u001b[1B\u001b[1A\u001b[1m> Resolve dependencies of :grobid-service:runtimeClasspath > jersey-container-s\u001b[m\u001b[79D\u001b[1B\u001b[1A\u001b[1m> Resolve dependencies of :grobid-service:runtimeClasspath > metrics-jetty9-4.0\u001b[m\u001b[79D\u001b[1B\u001b[1A\u001b[1m> Resolve dependencies of :grobid-service:runtimeClasspath > jetty-http-9.4.18.\u001b[m\u001b[79D\u001b[1B\u001b[2A\u001b[1m<\u001b[0;32;1m=============\u001b[0;39;1m> 100% CONFIGURING [39s]\u001b[m\u001b[38D\u001b[2B\u001b[1A\u001b[1m> Resolve dependencies of :grobid-service:runtimeClasspath\u001b[m\u001b[0K\u001b[58D\u001b[1B\u001b[1A\u001b[1m> Resolve dependencies of :grobid-service:runtimeClasspath > logback-access-1.2\u001b[m\u001b[79D\u001b[1B\u001b[1A\u001b[1m> Resolve dependencies of :grobid-service:runtimeClasspath > jersey-container-s\u001b[m\u001b[79D\u001b[1B\u001b[1A\u001b[1m> Resolve dependencies of :grobid-service:runtimeClasspath\u001b[m\u001b[0K\u001b[58D\u001b[1B\u001b[1A\u001b[1m> Resolve dependencies of :grobid-service:runtimeClasspath > aopalliance-1.0.po\u001b[m\u001b[79D\u001b[1B\u001b[1A\u001b[1m> Resolve dependencies of :grobid-service:runtimeClasspath\u001b[m\u001b[0K\u001b[58D\u001b[1B\u001b[1A\u001b[1m> Resolve dependencies of :grobid-service:runtimeClasspath > validation-api-1.1\u001b[m\u001b[79D\u001b[1B\u001b[1A\u001b[1m> Resolve dependencies of :grobid-service:runtimeClasspath > aopalliance-repack\u001b[m\u001b[79D\u001b[1B\u001b[2A\u001b[1m<\u001b[0;32;1m=============\u001b[0;39;1m> 100% CONFIGURING [40s]\u001b[m\u001b[38D\u001b[1B\u001b[1m> Resolve dependencies of :grobid-service:runtimeClasspath\u001b[m\u001b[0K\u001b[58D\u001b[1B\u001b[1A\u001b[1m> Resolve dependencies of :grobid-service:runtimeClasspath > simpleclient_trace\u001b[m\u001b[79D\u001b[1B\u001b[1A\u001b[1m> Resolve dependencies of :grobid-service:runtimeClasspath > classmate-1.3.1.po\u001b[m\u001b[79D\u001b[1B\u001b[1A\u001b[1m> Resolve dependencies of :grobid-service:runtimeClasspath\u001b[m\u001b[0K\u001b[58D\u001b[1B\u001b[1A\u001b[1m> Resolve dependencies of :grobid-service:runtimeClasspath > project-2.25.1.pom\u001b[m\u001b[79D\u001b[1B\u001b[1A\u001b[1m> Resolve dependencies of :grobid-service:runtimeClasspath\u001b[m\u001b[0K\u001b[58D\u001b[1B\u001b[1A\u001b[1m> Resolve files of :grobid-service:runtimeClasspath > dropwizard-logging-1.3.23\u001b[m\u001b[79D\u001b[1B\u001b[1A\u001b[1m> Resolve files of :grobid-service:runtimeClasspath\u001b[m\u001b[0K\u001b[51D\u001b[1B\u001b[2A\u001b[1m<\u001b[0;32;1m=============\u001b[0;39;1m> 100% CONFIGURING [41s]\u001b[m\u001b[38D\u001b[1B\u001b[1m> Resolve files of :grobid-service:runtimeClasspath > guice-multibindings-4.0.j\u001b[m\u001b[79D\u001b[1B\u001b[1A\u001b[1m> Resolve files of :grobid-service:runtimeClasspath > jackson-datatype-jsr310-2\u001b[m\u001b[79D\u001b[1B\u001b[1A\u001b[1m> Resolve files of :grobid-service:runtimeClasspath > jackson-module-jaxb-annot\u001b[m\u001b[79D\u001b[1B\u001b[1A\u001b[1m> Resolve files of :grobid-service:runtimeClasspath > metrics-jvm-4.0.5.jar\u001b[m\u001b[0K\u001b[75D\u001b[1B\u001b[1A\u001b[1m> Resolve files of :grobid-service:runtimeClasspath > metrics-jetty9-4.0.5.jar\u001b[m\u001b[78D\u001b[1B\u001b[1A\u001b[1m> Resolve files of :grobid-service:runtimeClasspath > log4j-over-slf4j-1.7.26.j\u001b[m\u001b[79D\u001b[1B\u001b[1A\u001b[1m> Resolve files of :grobid-service:runtimeClasspath > progressbar-0.9.0.jar\u001b[m\u001b[0K\u001b[75D\u001b[1B\u001b[1A\u001b[1m> Resolve files of :grobid-service:runtimeClasspath > jetty-security-9.4.18.v20\u001b[m\u001b[79D\u001b[1B\u001b[1A\u001b[1m> Resolve files of :grobid-service:runtimeClasspath > jersey-test-framework-pro\u001b[m\u001b[79D\u001b[1B\u001b[1A\u001b[1m> Resolve files of :grobid-service:runtimeClasspath > jersey-server-2.25.1.jar\u001b[m\u001b[0K\u001b[78D\u001b[1B\u001b[2A\u001b[1m<\u001b[0;32;1m=============\u001b[0;39;1m> 100% CONFIGURING [42s]\u001b[m\u001b[38D\u001b[1B\u001b[1m> Resolve files of :grobid-service:runtimeClasspath > jersey-media-jaxb-2.25.1.\u001b[m\u001b[79D\u001b[1B\u001b[1A\u001b[1m> Resolve files of :grobid-service:runtimeClasspath > hk2-locator-2.5.0-b32.jar\u001b[m\u001b[79D\u001b[1B\u001b[1A\u001b[1m> Resolve files of :grobid-service:runtimeClasspath > assertj-core-3.9.1.jar\u001b[m\u001b[0K\u001b[76D\u001b[1B\u001b[1A\u001b[1m> Resolve files of :grobid-service:runtimeClasspath > simpleclient-0.11.0.jar\u001b[m\u001b[77D\u001b[1B\u001b[1A\u001b[1m> Resolve files of :grobid-service:runtimeClasspath > javassist-3.24.1-GA.jar\u001b[m\u001b[77D\u001b[1B\u001b[1A\u001b[1m> Resolve files of :grobid-service:runtimeClasspath > jetty-servlets-9.4.18.v20\u001b[m\u001b[79D\u001b[1B\u001b[1A\u001b[1m> Resolve files of :grobid-service:runtimeClasspath\u001b[m\u001b[0K\u001b[51D\u001b[1B\u001b[1A\u001b[1m> Resolve files of :grobid-service:runtimeClasspath > validation-api-1.1.0.Fina\u001b[m\u001b[79D\u001b[1B\u001b[1A\u001b[1m> Resolve files of :grobid-service:runtimeClasspath > jboss-logging-3.3.0.Final\u001b[m\u001b[79D\u001b[1B\u001b[1A\u001b[1m> Resolve files of :grobid-service:runtimeClasspath > simpleclient_tracer_commo\u001b[m\u001b[79D\u001b[1B\u001b[2A\u001b[1m<\u001b[0;32;1m=============\u001b[0;39;1m> 100% CONFIGURING [43s]\u001b[m\u001b[38D\u001b[1B\u001b[1m> Resolve files of :grobid-service:runtimeClasspath > dropwizard-forms-1.3.23.j\u001b[m\u001b[79D\u001b[1B\u001b[1A\u001b[1m> Resolve files of :grobid-service:runtimeClasspath > dropwizard-core-1.3.23.ja\u001b[m\u001b[79D\u001b[1B\u001b[1A> IDLE\u001b[0K\u001b[6D\u001b[1B\u001b[2A\u001b[1m<\u001b[0;1m-------------> 0% EXECUTING [43s]\u001b[m\u001b[0K\u001b[34D\u001b[1B\u001b[1m> :clean\u001b[m\u001b[8D\u001b[1B\u001b[2A\u001b[1m<\u001b[0;32;1m=\u001b[0;39;1m------------> 11% EXECUTING [43s]\u001b[m\u001b[35D\u001b[1B\u001b[1m> :grobid-core:compileJava\u001b[m\u001b[26D\u001b[1B\u001b[1A\u001b[1m> :grobid-core:compileJava > Resolve files of :grobid-core:compileClasspath\u001b[m\u001b[75D\u001b[1B\u001b[2A\u001b[1m<\u001b[0;32;1m=\u001b[0;39;1m------------> 11% EXECUTING [44s]\u001b[m\u001b[35D\u001b[1B\u001b[1m> :grobid-core:compileJava\u001b[m\u001b[0K\u001b[26D\u001b[1B\u001b[2A\u001b[1m<\u001b[0;32;1m=\u001b[0;39;1m------------> 11% EXECUTING [45s]\u001b[m\u001b[35D\u001b[2B\u001b[2A\u001b[1m<\u001b[0;32;1m=\u001b[0;39;1m------------> 11% EXECUTING [46s]\u001b[m\u001b[35D\u001b[2B\u001b[2A\u001b[1m<\u001b[0;32;1m=\u001b[0;39;1m------------> 11% EXECUTING [47s]\u001b[m\u001b[35D\u001b[2B\u001b[2A\u001b[1m<\u001b[0;32;1m=\u001b[0;39;1m------------> 11% EXECUTING [48s]\u001b[m\u001b[35D\u001b[2B\u001b[2A\u001b[1m<\u001b[0;32;1m=\u001b[0;39;1m------------> 11% EXECUTING [49s]\u001b[m\u001b[35D\u001b[2B\u001b[2A\u001b[1m<\u001b[0;32;1m=\u001b[0;39;1m------------> 11% EXECUTING [50s]\u001b[m\u001b[35D\u001b[2B\u001b[2A\u001b[1m<\u001b[0;32;1m=\u001b[0;39;1m------------> 11% EXECUTING [51s]\u001b[m\u001b[35D\u001b[2B\u001b[2A\u001b[1m<\u001b[0;32;1m=\u001b[0;39;1m------------> 11% EXECUTING [52s]\u001b[m\u001b[35D\u001b[2B\u001b[2A\u001b[1m<\u001b[0;32;1m=\u001b[0;39;1m------------> 11% EXECUTING [53s]\u001b[m\u001b[35D\u001b[2B\u001b[2A\u001b[1m<\u001b[0;32;1m=\u001b[0;39;1m------------> 11% EXECUTING [54s]\u001b[m\u001b[35D\u001b[2B\u001b[2A\u001b[1m<\u001b[0;32;1m=\u001b[0;39;1m------------> 11% EXECUTING [55s]\u001b[m\u001b[35D\u001b[2B\u001b[2A\u001b[1m<\u001b[0;32;1m=\u001b[0;39;1m------------> 11% EXECUTING [56s]\u001b[m\u001b[35D\u001b[2B\u001b[2A\u001b[1m<\u001b[0;32;1m=\u001b[0;39;1m------------> 11% EXECUTING [57s]\u001b[m\u001b[35D\u001b[2B\u001b[2A\u001b[1m<\u001b[0;32;1m=\u001b[0;39;1m------------> 11% EXECUTING [58s]\u001b[m\u001b[35D\u001b[2B\u001b[2A\u001b[1m<\u001b[0;32;1m=\u001b[0;39;1m------------> 11% EXECUTING [59s]\u001b[m\u001b[35D\u001b[2B\u001b[2A\u001b[1m<\u001b[0;32;1m=\u001b[0;39;1m------------> 11% EXECUTING [1m 0s]\u001b[m\u001b[37D\u001b[2B\u001b[2A\u001b[0K\n",
            "\u001b[1m> Task :grobid-core:compileJava\u001b[m\u001b[0K\n",
            "Note: Some input files use or override a deprecated API.\n",
            "Note: Recompile with -Xlint:deprecation for details.\n",
            "Note: Some input files use unchecked or unsafe operations.\n",
            "Note: Recompile with -Xlint:unchecked for details.\n",
            "\u001b[0K\n",
            "\u001b[0K\n",
            "\u001b[2A\u001b[1m<\u001b[0;32;1m=\u001b[0;39;1m------------> 11% EXECUTING [1m 0s]\u001b[m\u001b[37D\u001b[1B\u001b[1m> :grobid-core:compileJava\u001b[m\u001b[26D\u001b[1B\u001b[2A\u001b[1m<\u001b[0;32;1m=\u001b[0;39;1m------------> 11% EXECUTING [1m 1s]\u001b[m\u001b[37D\u001b[2B\u001b[2A\u001b[1m<\u001b[0;32;1m=\u001b[0;39;1m------------> 11% EXECUTING [1m 2s]\u001b[m\u001b[37D\u001b[2B\u001b[2A\u001b[1m<\u001b[0;32;1m=\u001b[0;39;1m------------> 11% EXECUTING [1m 3s]\u001b[m\u001b[37D\u001b[2B\u001b[2A\u001b[1m<\u001b[0;32;1m=\u001b[0;39;1m------------> 11% EXECUTING [1m 4s]\u001b[m\u001b[37D\u001b[2B\u001b[2A\u001b[1m<\u001b[0;32;1m=\u001b[0;39;1m------------> 11% EXECUTING [1m 5s]\u001b[m\u001b[37D\u001b[2B\u001b[2A\u001b[1m<\u001b[0;32;1m=\u001b[0;39;1m------------> 11% EXECUTING [1m 6s]\u001b[m\u001b[37D\u001b[2B\u001b[2A\u001b[1m<\u001b[0;32;1m=\u001b[0;39;1m------------> 11% EXECUTING [1m 7s]\u001b[m\u001b[37D\u001b[2B\u001b[2A\u001b[1m<\u001b[0;32;1m=\u001b[0;39;1m------------> 11% EXECUTING [1m 8s]\u001b[m\u001b[37D\u001b[2B\u001b[2A\u001b[1m<\u001b[0;32;1m=\u001b[0;39;1m------------> 11% EXECUTING [1m 9s]\u001b[m\u001b[37D\u001b[2B\u001b[2A\u001b[1m<\u001b[0;32;1m=\u001b[0;39;1m------------> 11% EXECUTING [1m 10s]\u001b[m\u001b[38D\u001b[2B\u001b[2A\u001b[1m<\u001b[0;32;1m=\u001b[0;39;1m------------> 11% EXECUTING [1m 11s]\u001b[m\u001b[38D\u001b[2B\u001b[2A\u001b[1m<\u001b[0;32;1m=\u001b[0;39;1m------------> 11% EXECUTING [1m 12s]\u001b[m\u001b[38D\u001b[2B\u001b[2A\u001b[1m<\u001b[0;32;1m=\u001b[0;39;1m------------> 11% EXECUTING [1m 13s]\u001b[m\u001b[38D\u001b[2B\u001b[2A\u001b[1m<\u001b[0;32;1m=\u001b[0;39;1m------------> 11% EXECUTING [1m 14s]\u001b[m\u001b[38D\u001b[2B\u001b[2A\u001b[1m<\u001b[0;32;1m=\u001b[0;39;1m------------> 11% EXECUTING [1m 15s]\u001b[m\u001b[38D\u001b[2B\u001b[2A\u001b[1m<\u001b[0;32;1m=\u001b[0;39;1m------------> 11% EXECUTING [1m 16s]\u001b[m\u001b[38D\u001b[2B\u001b[2A\u001b[1m<\u001b[0;32;1m=\u001b[0;39;1m------------> 11% EXECUTING [1m 17s]\u001b[m\u001b[38D\u001b[2B\u001b[2A\u001b[1m<\u001b[0;32;1m=\u001b[0;39;1m------------> 11% EXECUTING [1m 18s]\u001b[m\u001b[38D\u001b[2B\u001b[1A\u001b[1m> :grobid-core:compileJava > Packing build cache entry\u001b[m\u001b[54D\u001b[1B\u001b[2A\u001b[1m<\u001b[0;32;1m=\u001b[0;39;1m------------> 11% EXECUTING [1m 19s]\u001b[m\u001b[38D\u001b[2B\u001b[2A\u001b[1m<\u001b[0;32;1m=\u001b[0;39;1m------------> 13% EXECUTING [1m 19s]\u001b[m\u001b[38D\u001b[1B\u001b[1m> :grobid-core:processResources\u001b[m\u001b[0K\u001b[31D\u001b[1B\u001b[2A\u001b[1m<\u001b[0;32;1m==\u001b[0;39;1m-----------> 18% EXECUTING [1m 19s]\u001b[m\u001b[38D\u001b[1B\u001b[1m> :grobid-core:jar\u001b[m\u001b[0K\u001b[18D\u001b[1B\u001b[2A\u001b[1m<\u001b[0;32;1m==\u001b[0;39;1m-----------> 18% EXECUTING [1m 20s]\u001b[m\u001b[38D\u001b[2B\u001b[2A\u001b[1m<\u001b[0;32;1m==\u001b[0;39;1m-----------> 18% EXECUTING [1m 21s]\u001b[m\u001b[38D\u001b[2B\u001b[2A\u001b[1m<\u001b[0;32;1m==\u001b[0;39;1m-----------> 18% EXECUTING [1m 22s]\u001b[m\u001b[38D\u001b[2B\u001b[2A\u001b[1m<\u001b[0;32;1m==\u001b[0;39;1m-----------> 20% EXECUTING [1m 22s]\u001b[m\u001b[38D\u001b[1B\u001b[1m> :grobid-core:shadowJar\u001b[m\u001b[24D\u001b[1B\u001b[2A\u001b[1m<\u001b[0;32;1m==\u001b[0;39;1m-----------> 20% EXECUTING [1m 23s]\u001b[m\u001b[38D\u001b[2B\u001b[2A\u001b[1m<\u001b[0;32;1m==\u001b[0;39;1m-----------> 20% EXECUTING [1m 24s]\u001b[m\u001b[38D\u001b[2B\u001b[2A\u001b[1m<\u001b[0;32;1m==\u001b[0;39;1m-----------> 20% EXECUTING [1m 25s]\u001b[m\u001b[38D\u001b[2B\u001b[2A\u001b[1m<\u001b[0;32;1m==\u001b[0;39;1m-----------> 20% EXECUTING [1m 26s]\u001b[m\u001b[38D\u001b[2B\u001b[1A\u001b[1m> :grobid-core:shadowJar > Resolve files of :grobid-core:runtimeClasspath\u001b[m\u001b[73D\u001b[1B\u001b[1A\u001b[1m> :grobid-core:shadowJar\u001b[m\u001b[0K\u001b[24D\u001b[1B\u001b[2A\u001b[1m<\u001b[0;32;1m==\u001b[0;39;1m-----------> 20% EXECUTING [1m 27s]\u001b[m\u001b[38D\u001b[2B\u001b[2A\u001b[1m<\u001b[0;32;1m==\u001b[0;39;1m-----------> 20% EXECUTING [1m 28s]\u001b[m\u001b[38D\u001b[2B\u001b[2A\u001b[1m<\u001b[0;32;1m==\u001b[0;39;1m-----------> 20% EXECUTING [1m 29s]\u001b[m\u001b[38D\u001b[2B\u001b[2A\u001b[1m<\u001b[0;32;1m==\u001b[0;39;1m-----------> 20% EXECUTING [1m 30s]\u001b[m\u001b[38D\u001b[2B\u001b[2A\u001b[1m<\u001b[0;32;1m==\u001b[0;39;1m-----------> 20% EXECUTING [1m 31s]\u001b[m\u001b[38D\u001b[2B\u001b[2A\u001b[1m<\u001b[0;32;1m==\u001b[0;39;1m-----------> 20% EXECUTING [1m 32s]\u001b[m\u001b[38D\u001b[2B\u001b[2A\u001b[1m<\u001b[0;32;1m==\u001b[0;39;1m-----------> 20% EXECUTING [1m 33s]\u001b[m\u001b[38D\u001b[2B\u001b[2A\u001b[1m<\u001b[0;32;1m==\u001b[0;39;1m-----------> 20% EXECUTING [1m 34s]\u001b[m\u001b[38D\u001b[2B\u001b[2A\u001b[1m<\u001b[0;32;1m==\u001b[0;39;1m-----------> 20% EXECUTING [1m 35s]\u001b[m\u001b[38D\u001b[2B\u001b[2A\u001b[1m<\u001b[0;32;1m==\u001b[0;39;1m-----------> 20% EXECUTING [1m 36s]\u001b[m\u001b[38D\u001b[2B\u001b[2A\u001b[1m<\u001b[0;32;1m==\u001b[0;39;1m-----------> 20% EXECUTING [1m 37s]\u001b[m\u001b[38D\u001b[2B\u001b[2A\u001b[1m<\u001b[0;32;1m==\u001b[0;39;1m-----------> 20% EXECUTING [1m 38s]\u001b[m\u001b[38D\u001b[2B\u001b[2A\u001b[1m<\u001b[0;32;1m==\u001b[0;39;1m-----------> 20% EXECUTING [1m 39s]\u001b[m\u001b[38D\u001b[2B\u001b[2A\u001b[1m<\u001b[0;32;1m==\u001b[0;39;1m-----------> 20% EXECUTING [1m 40s]\u001b[m\u001b[38D\u001b[2B\u001b[2A\u001b[1m<\u001b[0;32;1m==\u001b[0;39;1m-----------> 20% EXECUTING [1m 41s]\u001b[m\u001b[38D\u001b[2B\u001b[2A\u001b[1m<\u001b[0;32;1m==\u001b[0;39;1m-----------> 20% EXECUTING [1m 42s]\u001b[m\u001b[38D\u001b[2B\u001b[2A\u001b[1m<\u001b[0;32;1m==\u001b[0;39;1m-----------> 20% EXECUTING [1m 43s]\u001b[m\u001b[38D\u001b[2B\u001b[2A\u001b[1m<\u001b[0;32;1m==\u001b[0;39;1m-----------> 20% EXECUTING [1m 44s]\u001b[m\u001b[38D\u001b[2B\u001b[2A\u001b[1m<\u001b[0;32;1m==\u001b[0;39;1m-----------> 20% EXECUTING [1m 45s]\u001b[m\u001b[38D\u001b[2B\u001b[2A\u001b[1m<\u001b[0;32;1m==\u001b[0;39;1m-----------> 20% EXECUTING [1m 46s]\u001b[m\u001b[38D\u001b[2B\u001b[2A\u001b[1m<\u001b[0;32;1m==\u001b[0;39;1m-----------> 20% EXECUTING [1m 47s]\u001b[m\u001b[38D\u001b[2B\u001b[2A\u001b[1m<\u001b[0;32;1m==\u001b[0;39;1m-----------> 20% EXECUTING [1m 48s]\u001b[m\u001b[38D\u001b[2B\u001b[2A\u001b[1m<\u001b[0;32;1m==\u001b[0;39;1m-----------> 20% EXECUTING [1m 49s]\u001b[m\u001b[38D\u001b[2B\u001b[2A\u001b[1m<\u001b[0;32;1m==\u001b[0;39;1m-----------> 20% EXECUTING [1m 50s]\u001b[m\u001b[38D\u001b[2B\u001b[2A\u001b[1m<\u001b[0;32;1m==\u001b[0;39;1m-----------> 20% EXECUTING [1m 51s]\u001b[m\u001b[38D\u001b[2B\u001b[2A\u001b[1m<\u001b[0;32;1m==\u001b[0;39;1m-----------> 20% EXECUTING [1m 52s]\u001b[m\u001b[38D\u001b[2B\u001b[2A\u001b[1m<\u001b[0;32;1m==\u001b[0;39;1m-----------> 20% EXECUTING [1m 53s]\u001b[m\u001b[38D\u001b[2B\u001b[2A\u001b[1m<\u001b[0;32;1m==\u001b[0;39;1m-----------> 20% EXECUTING [1m 54s]\u001b[m\u001b[38D\u001b[2B\u001b[2A\u001b[1m<\u001b[0;32;1m==\u001b[0;39;1m-----------> 20% EXECUTING [1m 55s]\u001b[m\u001b[38D\u001b[2B\u001b[2A\u001b[1m<\u001b[0;32;1m==\u001b[0;39;1m-----------> 20% EXECUTING [1m 56s]\u001b[m\u001b[38D\u001b[2B\u001b[2A\u001b[1m<\u001b[0;32;1m==\u001b[0;39;1m-----------> 20% EXECUTING [1m 57s]\u001b[m\u001b[38D\u001b[2B\u001b[2A\u001b[1m<\u001b[0;32;1m==\u001b[0;39;1m-----------> 20% EXECUTING [1m 58s]\u001b[m\u001b[38D\u001b[2B\u001b[2A\u001b[1m<\u001b[0;32;1m==\u001b[0;39;1m-----------> 20% EXECUTING [1m 59s]\u001b[m\u001b[38D\u001b[2B\u001b[2A\u001b[1m<\u001b[0;32;1m==\u001b[0;39;1m-----------> 20% EXECUTING [2m 0s]\u001b[m\u001b[0K\u001b[37D\u001b[2B\u001b[2A\u001b[1m<\u001b[0;32;1m==\u001b[0;39;1m-----------> 20% EXECUTING [2m 1s]\u001b[m\u001b[37D\u001b[2B\u001b[2A\u001b[1m<\u001b[0;32;1m==\u001b[0;39;1m-----------> 20% EXECUTING [2m 2s]\u001b[m\u001b[37D\u001b[2B\u001b[2A\u001b[1m<\u001b[0;32;1m==\u001b[0;39;1m-----------> 20% EXECUTING [2m 3s]\u001b[m\u001b[37D\u001b[2B\u001b[2A\u001b[1m<\u001b[0;32;1m==\u001b[0;39;1m-----------> 20% EXECUTING [2m 4s]\u001b[m\u001b[37D\u001b[2B\u001b[2A\u001b[1m<\u001b[0;32;1m==\u001b[0;39;1m-----------> 20% EXECUTING [2m 5s]\u001b[m\u001b[37D\u001b[2B\u001b[2A\u001b[1m<\u001b[0;32;1m==\u001b[0;39;1m-----------> 20% EXECUTING [2m 6s]\u001b[m\u001b[37D\u001b[2B\u001b[2A\u001b[1m<\u001b[0;32;1m==\u001b[0;39;1m-----------> 20% EXECUTING [2m 7s]\u001b[m\u001b[37D\u001b[2B\u001b[2A\u001b[1m<\u001b[0;32;1m==\u001b[0;39;1m-----------> 20% EXECUTING [2m 8s]\u001b[m\u001b[37D\u001b[2B\u001b[2A\u001b[1m<\u001b[0;32;1m==\u001b[0;39;1m-----------> 20% EXECUTING [2m 9s]\u001b[m\u001b[37D\u001b[2B\u001b[2A\u001b[1m<\u001b[0;32;1m==\u001b[0;39;1m-----------> 20% EXECUTING [2m 10s]\u001b[m\u001b[38D\u001b[2B\u001b[2A\u001b[1m<\u001b[0;32;1m==\u001b[0;39;1m-----------> 20% EXECUTING [2m 11s]\u001b[m\u001b[38D\u001b[2B\u001b[2A\u001b[1m<\u001b[0;32;1m==\u001b[0;39;1m-----------> 20% EXECUTING [2m 12s]\u001b[m\u001b[38D\u001b[2B\u001b[2A\u001b[1m<\u001b[0;32;1m==\u001b[0;39;1m-----------> 20% EXECUTING [2m 13s]\u001b[m\u001b[38D\u001b[2B\u001b[2A\u001b[1m<\u001b[0;32;1m==\u001b[0;39;1m-----------> 20% EXECUTING [2m 14s]\u001b[m\u001b[38D\u001b[2B\u001b[1A\u001b[1m> :grobid-core:shadowJar > Packing build cache entry\u001b[m\u001b[52D\u001b[1B\u001b[2A\u001b[1m<\u001b[0;32;1m==\u001b[0;39;1m-----------> 20% EXECUTING [2m 15s]\u001b[m\u001b[38D\u001b[2B\u001b[2A\u001b[1m<\u001b[0;32;1m==\u001b[0;39;1m-----------> 20% EXECUTING [2m 16s]\u001b[m\u001b[38D\u001b[2B\u001b[2A\u001b[1m<\u001b[0;32;1m==\u001b[0;39;1m-----------> 20% EXECUTING [2m 17s]\u001b[m\u001b[38D\u001b[2B\u001b[2A\u001b[1m<\u001b[0;32;1m==\u001b[0;39;1m-----------> 20% EXECUTING [2m 18s]\u001b[m\u001b[38D\u001b[2B\u001b[2A\u001b[1m<\u001b[0;32;1m==\u001b[0;39;1m-----------> 22% EXECUTING [2m 18s]\u001b[m\u001b[38D\u001b[1B\u001b[1m> :grobid-core:generateMetadataFileForMavenJavaPublication\u001b[m\u001b[58D\u001b[1B\u001b[2A\u001b[1m<\u001b[0;32;1m==\u001b[0;39;1m-----------> 22% EXECUTING [2m 19s]\u001b[m\u001b[38D\u001b[2B\u001b[2A\u001b[1m<\u001b[0;32;1m===\u001b[0;39;1m----------> 25% EXECUTING [2m 19s]\u001b[m\u001b[38D\u001b[1B\u001b[1m> :grobid-core:generatePomFileForMavenJavaPublication\u001b[m\u001b[0K\u001b[53D\u001b[1B\u001b[2A\u001b[1m<\u001b[0;32;1m===\u001b[0;39;1m----------> 27% EXECUTING [2m 20s]\u001b[m\u001b[38D\u001b[1B\u001b[1m> :grobid-core:publishMavenJavaPublicationToMavenLocal\u001b[m\u001b[54D\u001b[1B\u001b[2A\u001b[1m<\u001b[0;32;1m=======\u001b[0;39;1m------> 54% EXECUTING [2m 20s]\u001b[m\u001b[38D\u001b[1B\u001b[1m> :grobid-trainer:compileJava\u001b[m\u001b[0K\u001b[29D\u001b[1B\u001b[2A\u001b[1m<\u001b[0;32;1m=======\u001b[0;39;1m------> 54% EXECUTING [2m 21s]\u001b[m\u001b[38D\u001b[2B\u001b[2A\u001b[1m<\u001b[0;32;1m=======\u001b[0;39;1m------> 54% EXECUTING [2m 22s]\u001b[m\u001b[38D\u001b[2B\u001b[2A\u001b[0K\n",
            "\u001b[1m> Task :grobid-trainer:compileJava\u001b[m\u001b[0K\n",
            "Note: Some input files use or override a deprecated API.\n",
            "Note: Recompile with -Xlint:deprecation for details.\n",
            "Note: Some input files use unchecked or unsafe operations.\n",
            "Note: Recompile with -Xlint:unchecked for details.\n",
            "\u001b[0K\n",
            "\u001b[0K\n",
            "\u001b[2A\u001b[1m<\u001b[0;32;1m=======\u001b[0;39;1m------> 54% EXECUTING [2m 22s]\u001b[m\u001b[38D\u001b[1B\u001b[1m> :grobid-trainer:compileJava\u001b[m\u001b[29D\u001b[1B\u001b[2A\u001b[1m<\u001b[0;32;1m=======\u001b[0;39;1m------> 54% EXECUTING [2m 23s]\u001b[m\u001b[38D\u001b[2B\u001b[2A\u001b[1m<\u001b[0;32;1m=======\u001b[0;39;1m------> 56% EXECUTING [2m 23s]\u001b[m\u001b[38D\u001b[1B\u001b[1m> :grobid-service:compileJava\u001b[m\u001b[29D\u001b[1B\u001b[1A\u001b[1m> :grobid-service:compileJava > Resolve dependencies of :grobid-service:compile\u001b[m\u001b[79D\u001b[1B\u001b[1A\u001b[1m> :grobid-service:compileJava > Resolve files of :grobid-service:compileClasspa\u001b[m\u001b[79D\u001b[1B\u001b[1A\u001b[1m> :grobid-service:compileJava\u001b[m\u001b[0K\u001b[29D\u001b[1B\u001b[2A\u001b[1m<\u001b[0;32;1m=======\u001b[0;39;1m------> 56% EXECUTING [2m 24s]\u001b[m\u001b[38D\u001b[2B\u001b[2A\u001b[1m<\u001b[0;32;1m=======\u001b[0;39;1m------> 56% EXECUTING [2m 25s]\u001b[m\u001b[38D\u001b[2B\u001b[2A\u001b[0K\n",
            "\u001b[1m> Task :grobid-service:compileJava\u001b[m\u001b[0K\n",
            "POM relocation to an other version number is not fully supported in Gradle : xml-apis:xml-apis:2.0.2 relocated to xml-apis:xml-apis:1.0.b2.\n",
            "Please update your dependency to directly use the correct version 'xml-apis:xml-apis:1.0.b2'.\n",
            "Resolution will only pick dependencies of the relocated element.  Artifacts and other metadata will be ignored.\n",
            "\u001b[0K\n",
            "\u001b[0K\n",
            "\u001b[2A\u001b[1m<\u001b[0;32;1m=======\u001b[0;39;1m------> 56% EXECUTING [2m 25s]\u001b[m\u001b[38D\u001b[1B\u001b[1m> :grobid-service:compileJava\u001b[m\u001b[29D\u001b[1B\u001b[2A\u001b[1m<\u001b[0;32;1m=======\u001b[0;39;1m------> 56% EXECUTING [2m 26s]\u001b[m\u001b[38D\u001b[2B\u001b[2A\u001b[1m<\u001b[0;32;1m=======\u001b[0;39;1m------> 56% EXECUTING [2m 27s]\u001b[m\u001b[38D\u001b[2B\u001b[2ANote: /content/grobid-0.7.2/grobid-service/src/main/java/org/grobid/service/process/GrobidRestProcessString.java uses or overrides a deprecated API.\u001b[0K\n",
            "Note: Recompile with -Xlint:deprecation for details.\u001b[0K\n",
            "\u001b[0K\n",
            "\u001b[0K\n",
            "\u001b[2A\u001b[1m<\u001b[0;32;1m=======\u001b[0;39;1m------> 56% EXECUTING [2m 27s]\u001b[m\u001b[38D\u001b[1B\u001b[1m> :grobid-service:compileJava\u001b[m\u001b[29D\u001b[1B\u001b[2A\u001b[1m<\u001b[0;32;1m=======\u001b[0;39;1m------> 56% EXECUTING [2m 28s]\u001b[m\u001b[38D\u001b[2B\u001b[2A\u001b[1m<\u001b[0;32;1m=======\u001b[0;39;1m------> 56% EXECUTING [2m 29s]\u001b[m\u001b[38D\u001b[2B\u001b[2A\u001b[1m<\u001b[0;32;1m=======\u001b[0;39;1m------> 56% EXECUTING [2m 30s]\u001b[m\u001b[38D\u001b[2B\u001b[2A\u001b[1m<\u001b[0;32;1m=======\u001b[0;39;1m------> 56% EXECUTING [2m 31s]\u001b[m\u001b[38D\u001b[2B\u001b[2A\u001b[1m<\u001b[0;32;1m=======\u001b[0;39;1m------> 56% EXECUTING [2m 32s]\u001b[m\u001b[38D\u001b[2B\u001b[2A\u001b[1m<\u001b[0;32;1m=======\u001b[0;39;1m------> 56% EXECUTING [2m 33s]\u001b[m\u001b[38D\u001b[2B\u001b[2A\u001b[1m<\u001b[0;32;1m=======\u001b[0;39;1m------> 59% EXECUTING [2m 33s]\u001b[m\u001b[38D\u001b[1B\u001b[1m> :grobid-service:processResources\u001b[m\u001b[34D\u001b[1B\u001b[2A\u001b[1m<\u001b[0;32;1m=======\u001b[0;39;1m------> 59% EXECUTING [2m 34s]\u001b[m\u001b[38D\u001b[2B\u001b[2A\u001b[1m<\u001b[0;32;1m========\u001b[0;39;1m-----> 63% EXECUTING [2m 34s]\u001b[m\u001b[38D\u001b[1B\u001b[1m> :grobid-service:jar\u001b[m\u001b[0K\u001b[21D\u001b[1B\u001b[2A\u001b[1m<\u001b[0;32;1m=========\u001b[0;39;1m----> 70% EXECUTING [2m 35s]\u001b[m\u001b[38D\u001b[1B\u001b[1m> :grobid-trainer:jar\u001b[m\u001b[21D\u001b[1B\u001b[2A\u001b[1m<\u001b[0;32;1m=========\u001b[0;39;1m----> 70% EXECUTING [2m 36s]\u001b[m\u001b[38D\u001b[2B\u001b[2A\u001b[1m<\u001b[0;32;1m=========\u001b[0;39;1m----> 70% EXECUTING [2m 37s]\u001b[m\u001b[38D\u001b[2B\u001b[2A\u001b[1m<\u001b[0;32;1m=========\u001b[0;39;1m----> 70% EXECUTING [2m 38s]\u001b[m\u001b[38D\u001b[2B\u001b[2A\u001b[1m<\u001b[0;32;1m=========\u001b[0;39;1m----> 72% EXECUTING [2m 38s]\u001b[m\u001b[38D\u001b[1B\u001b[1m> :grobid-service:shadowJar\u001b[m\u001b[27D\u001b[1B\u001b[2A\u001b[1m<\u001b[0;32;1m=========\u001b[0;39;1m----> 72% EXECUTING [2m 39s]\u001b[m\u001b[38D\u001b[2B\u001b[2A\u001b[1m<\u001b[0;32;1m=========\u001b[0;39;1m----> 72% EXECUTING [2m 40s]\u001b[m\u001b[38D\u001b[2B\u001b[2A\u001b[1m<\u001b[0;32;1m=========\u001b[0;39;1m----> 72% EXECUTING [2m 41s]\u001b[m\u001b[38D\u001b[2B\u001b[2A\u001b[1m<\u001b[0;32;1m=========\u001b[0;39;1m----> 72% EXECUTING [2m 42s]\u001b[m\u001b[38D\u001b[2B\u001b[2A\u001b[1m<\u001b[0;32;1m=========\u001b[0;39;1m----> 72% EXECUTING [2m 43s]\u001b[m\u001b[38D\u001b[2B\u001b[2A\u001b[1m<\u001b[0;32;1m=========\u001b[0;39;1m----> 72% EXECUTING [2m 44s]\u001b[m\u001b[38D\u001b[2B\u001b[2A\u001b[1m<\u001b[0;32;1m=========\u001b[0;39;1m----> 72% EXECUTING [2m 45s]\u001b[m\u001b[38D\u001b[2B\u001b[2A\u001b[1m<\u001b[0;32;1m=========\u001b[0;39;1m----> 72% EXECUTING [2m 46s]\u001b[m\u001b[38D\u001b[2B\u001b[2A\u001b[1m<\u001b[0;32;1m=========\u001b[0;39;1m----> 72% EXECUTING [2m 47s]\u001b[m\u001b[38D\u001b[2B\u001b[2A\u001b[1m<\u001b[0;32;1m=========\u001b[0;39;1m----> 72% EXECUTING [2m 48s]\u001b[m\u001b[38D\u001b[2B\u001b[2A\u001b[1m<\u001b[0;32;1m=========\u001b[0;39;1m----> 72% EXECUTING [2m 49s]\u001b[m\u001b[38D\u001b[2B\u001b[2A\u001b[1m<\u001b[0;32;1m=========\u001b[0;39;1m----> 72% EXECUTING [2m 50s]\u001b[m\u001b[38D\u001b[2B\u001b[2A\u001b[1m<\u001b[0;32;1m=========\u001b[0;39;1m----> 72% EXECUTING [2m 51s]\u001b[m\u001b[38D\u001b[2B\u001b[2A\u001b[1m<\u001b[0;32;1m=========\u001b[0;39;1m----> 72% EXECUTING [2m 52s]\u001b[m\u001b[38D\u001b[2B\u001b[2A\u001b[1m<\u001b[0;32;1m=========\u001b[0;39;1m----> 72% EXECUTING [2m 53s]\u001b[m\u001b[38D\u001b[2B\u001b[2A\u001b[1m<\u001b[0;32;1m=========\u001b[0;39;1m----> 72% EXECUTING [2m 54s]\u001b[m\u001b[38D\u001b[2B\u001b[2A\u001b[1m<\u001b[0;32;1m=========\u001b[0;39;1m----> 72% EXECUTING [2m 55s]\u001b[m\u001b[38D\u001b[2B\u001b[2A\u001b[1m<\u001b[0;32;1m=========\u001b[0;39;1m----> 72% EXECUTING [2m 56s]\u001b[m\u001b[38D\u001b[2B\u001b[2A\u001b[1m<\u001b[0;32;1m=========\u001b[0;39;1m----> 72% EXECUTING [2m 57s]\u001b[m\u001b[38D\u001b[2B\u001b[2A\u001b[1m<\u001b[0;32;1m=========\u001b[0;39;1m----> 72% EXECUTING [2m 58s]\u001b[m\u001b[38D\u001b[2B\u001b[2A\u001b[1m<\u001b[0;32;1m=========\u001b[0;39;1m----> 72% EXECUTING [2m 59s]\u001b[m\u001b[38D\u001b[2B\u001b[2A\u001b[1m<\u001b[0;32;1m=========\u001b[0;39;1m----> 72% EXECUTING [3m 0s]\u001b[m\u001b[0K\u001b[37D\u001b[2B\u001b[2A\u001b[1m<\u001b[0;32;1m=========\u001b[0;39;1m----> 72% EXECUTING [3m 1s]\u001b[m\u001b[37D\u001b[2B\u001b[2A\u001b[1m<\u001b[0;32;1m=========\u001b[0;39;1m----> 72% EXECUTING [3m 2s]\u001b[m\u001b[37D\u001b[2B\u001b[2A\u001b[1m<\u001b[0;32;1m=========\u001b[0;39;1m----> 72% EXECUTING [3m 3s]\u001b[m\u001b[37D\u001b[2B\u001b[2A\u001b[1m<\u001b[0;32;1m=========\u001b[0;39;1m----> 72% EXECUTING [3m 4s]\u001b[m\u001b[37D\u001b[2B\u001b[2A\u001b[1m<\u001b[0;32;1m=========\u001b[0;39;1m----> 72% EXECUTING [3m 5s]\u001b[m\u001b[37D\u001b[2B\u001b[2A\u001b[1m<\u001b[0;32;1m=========\u001b[0;39;1m----> 72% EXECUTING [3m 6s]\u001b[m\u001b[37D\u001b[2B\u001b[2A\u001b[1m<\u001b[0;32;1m=========\u001b[0;39;1m----> 72% EXECUTING [3m 7s]\u001b[m\u001b[37D\u001b[2B\u001b[2A\u001b[1m<\u001b[0;32;1m=========\u001b[0;39;1m----> 72% EXECUTING [3m 8s]\u001b[m\u001b[37D\u001b[2B\u001b[2A\u001b[1m<\u001b[0;32;1m=========\u001b[0;39;1m----> 72% EXECUTING [3m 9s]\u001b[m\u001b[37D\u001b[2B\u001b[2A\u001b[1m<\u001b[0;32;1m=========\u001b[0;39;1m----> 72% EXECUTING [3m 10s]\u001b[m\u001b[38D\u001b[1B\u001b[1m> :grobid-service:shadowJar > Packing build cache entry\u001b[m\u001b[55D\u001b[1B\u001b[2A\u001b[1m<\u001b[0;32;1m=========\u001b[0;39;1m----> 72% EXECUTING [3m 11s]\u001b[m\u001b[38D\u001b[2B\u001b[2A\u001b[1m<\u001b[0;32;1m=========\u001b[0;39;1m----> 72% EXECUTING [3m 12s]\u001b[m\u001b[38D\u001b[2B\u001b[2A\u001b[1m<\u001b[0;32;1m=========\u001b[0;39;1m----> 72% EXECUTING [3m 13s]\u001b[m\u001b[38D\u001b[2B\u001b[2A\u001b[1m<\u001b[0;32;1m=========\u001b[0;39;1m----> 72% EXECUTING [3m 14s]\u001b[m\u001b[38D\u001b[2B\u001b[2A\u001b[1m<\u001b[0;32;1m=========\u001b[0;39;1m----> 72% EXECUTING [3m 15s]\u001b[m\u001b[38D\u001b[1B\u001b[1m> :grobid-service:shadowJar\u001b[m\u001b[0K\u001b[27D\u001b[1B\u001b[2A\u001b[1m<\u001b[0;32;1m=========\u001b[0;39;1m----> 75% EXECUTING [3m 15s]\u001b[m\u001b[38D\u001b[1B\u001b[1m> :grobid-service:generateMetadataFileForMavenJavaPublication\u001b[m\u001b[61D\u001b[1B\u001b[2A\u001b[1m<\u001b[0;32;1m=========\u001b[0;39;1m----> 75% EXECUTING [3m 16s]\u001b[m\u001b[38D\u001b[2B\u001b[2A\u001b[1m<\u001b[0;32;1m==========\u001b[0;39;1m---> 79% EXECUTING [3m 16s]\u001b[m\u001b[38D\u001b[1B\u001b[1m> :grobid-service:publishMavenJavaPublicationToMavenLocal\u001b[m\u001b[0K\u001b[57D\u001b[1B\u001b[2A\u001b[1m<\u001b[0;32;1m==========\u001b[0;39;1m---> 79% EXECUTING [3m 17s]\u001b[m\u001b[38D\u001b[2B\u001b[2A\u001b[1m<\u001b[0;32;1m===========\u001b[0;39;1m--> 86% EXECUTING [3m 17s]\u001b[m\u001b[38D\u001b[1B\u001b[1m> :grobid-trainer:shadowJar\u001b[m\u001b[0K\u001b[27D\u001b[1B\u001b[2A\u001b[1m<\u001b[0;32;1m===========\u001b[0;39;1m--> 86% EXECUTING [3m 18s]\u001b[m\u001b[38D\u001b[2B\u001b[2A\u001b[1m<\u001b[0;32;1m===========\u001b[0;39;1m--> 86% EXECUTING [3m 19s]\u001b[m\u001b[38D\u001b[2B\u001b[2A\u001b[1m<\u001b[0;32;1m===========\u001b[0;39;1m--> 86% EXECUTING [3m 20s]\u001b[m\u001b[38D\u001b[2B\u001b[2A\u001b[1m<\u001b[0;32;1m===========\u001b[0;39;1m--> 86% EXECUTING [3m 21s]\u001b[m\u001b[38D\u001b[2B\u001b[2A\u001b[1m<\u001b[0;32;1m===========\u001b[0;39;1m--> 86% EXECUTING [3m 22s]\u001b[m\u001b[38D\u001b[2B\u001b[2A\u001b[1m<\u001b[0;32;1m===========\u001b[0;39;1m--> 86% EXECUTING [3m 23s]\u001b[m\u001b[38D\u001b[2B\u001b[2A\u001b[1m<\u001b[0;32;1m===========\u001b[0;39;1m--> 86% EXECUTING [3m 24s]\u001b[m\u001b[38D\u001b[2B\u001b[2A\u001b[1m<\u001b[0;32;1m===========\u001b[0;39;1m--> 86% EXECUTING [3m 25s]\u001b[m\u001b[38D\u001b[2B\u001b[2A\u001b[1m<\u001b[0;32;1m===========\u001b[0;39;1m--> 86% EXECUTING [3m 26s]\u001b[m\u001b[38D\u001b[2B\u001b[2A\u001b[1m<\u001b[0;32;1m===========\u001b[0;39;1m--> 86% EXECUTING [3m 27s]\u001b[m\u001b[38D\u001b[2B\u001b[2A\u001b[1m<\u001b[0;32;1m===========\u001b[0;39;1m--> 86% EXECUTING [3m 28s]\u001b[m\u001b[38D\u001b[2B\u001b[2A\u001b[1m<\u001b[0;32;1m===========\u001b[0;39;1m--> 86% EXECUTING [3m 29s]\u001b[m\u001b[38D\u001b[2B\u001b[2A\u001b[1m<\u001b[0;32;1m===========\u001b[0;39;1m--> 86% EXECUTING [3m 30s]\u001b[m\u001b[38D\u001b[2B\u001b[2A\u001b[1m<\u001b[0;32;1m===========\u001b[0;39;1m--> 86% EXECUTING [3m 31s]\u001b[m\u001b[38D\u001b[2B\u001b[2A\u001b[1m<\u001b[0;32;1m===========\u001b[0;39;1m--> 86% EXECUTING [3m 32s]\u001b[m\u001b[38D\u001b[2B\u001b[2A\u001b[1m<\u001b[0;32;1m===========\u001b[0;39;1m--> 86% EXECUTING [3m 33s]\u001b[m\u001b[38D\u001b[2B\u001b[2A\u001b[1m<\u001b[0;32;1m===========\u001b[0;39;1m--> 86% EXECUTING [3m 34s]\u001b[m\u001b[38D\u001b[2B\u001b[1A\u001b[1m> :grobid-trainer:shadowJar > Packing build cache entry\u001b[m\u001b[55D\u001b[1B\u001b[2A\u001b[1m<\u001b[0;32;1m===========\u001b[0;39;1m--> 86% EXECUTING [3m 35s]\u001b[m\u001b[38D\u001b[2B\u001b[2A\u001b[1m<\u001b[0;32;1m===========\u001b[0;39;1m--> 86% EXECUTING [3m 36s]\u001b[m\u001b[38D\u001b[2B\u001b[2A\u001b[1m<\u001b[0;32;1m===========\u001b[0;39;1m--> 86% EXECUTING [3m 37s]\u001b[m\u001b[38D\u001b[2B\u001b[2A\u001b[1m<\u001b[0;32;1m===========\u001b[0;39;1m--> 86% EXECUTING [3m 38s]\u001b[m\u001b[38D\u001b[2B\u001b[2A\u001b[1m<\u001b[0;32;1m===========\u001b[0;39;1m--> 86% EXECUTING [3m 39s]\u001b[m\u001b[38D\u001b[2B\u001b[2A\u001b[1m<\u001b[0;32;1m===========\u001b[0;39;1m--> 88% EXECUTING [3m 39s]\u001b[m\u001b[38D\u001b[1B\u001b[1m> :grobid-trainer:generateMetadataFileForMavenJavaPublication\u001b[m\u001b[61D\u001b[1B\u001b[2A\u001b[1m<\u001b[0;32;1m===========\u001b[0;39;1m--> 88% EXECUTING [3m 40s]\u001b[m\u001b[38D\u001b[2B\u001b[2A\u001b[1m<\u001b[0;32;1m============\u001b[0;39;1m-> 93% EXECUTING [3m 40s]\u001b[m\u001b[38D\u001b[1B\u001b[1m> :grobid-trainer:publishMavenJavaPublicationToMavenLocal\u001b[m\u001b[0K\u001b[57D\u001b[1B\u001b[2A\u001b[0K\n",
            "Deprecated Gradle features were used in this build, making it incompatible with Gradle 8.0.\u001b[0K\n",
            "\n",
            "You can use '--warning-mode all' to show the individual deprecation warnings and determine if they come from your own scripts or plugins.\n",
            "\n",
            "See https://docs.gradle.org/7.1.1/userguide/command_line_interface.html#sec:command_line_warnings\n",
            "\n",
            "\u001b[32;1mBUILD SUCCESSFUL\u001b[0;39m in 3m 49s\n",
            "30 actionable tasks: 25 executed, 5 up-to-date\n",
            "\u001b[0K\n",
            "\u001b[0K\n",
            "\u001b[2A\u001b[1m<\u001b[0;1m-------------> 0% WAITING\u001b[m\u001b[26D\u001b[1B\u001b[1m> Deleting unused version-specific caches in /content/grobid-0.7.2/.gradle\u001b[m\u001b[74D\u001b[1B\u001b[2A\u001b[2K\u001b[1B\u001b[2K\u001b[1A\u001b[m"
          ]
        }
      ],
      "source": [
        "# GrobId bauen und installieren. Das dauert 4 Minuten oder so, weil überkompliziertes Java-Build-System.\n",
        "!cd /content/grobid-0.7.2 && ./gradlew clean install"
      ]
    },
    {
      "cell_type": "code",
      "execution_count": 8,
      "metadata": {
        "id": "hjKJaEmdyh3z"
      },
      "outputs": [],
      "source": [
        "# Output-Directory anlegen\n",
        "import os\n",
        "os.mkdir(\"/content/output\")"
      ]
    },
    {
      "cell_type": "code",
      "execution_count": 9,
      "metadata": {
        "colab": {
          "base_uri": "https://localhost:8080/"
        },
        "id": "w2Td__WLJ_Or",
        "outputId": "72d22e49-2d30-49d7-b8b3-ad8810c572c2"
      },
      "outputs": [
        {
          "output_type": "stream",
          "name": "stdout",
          "text": [
            "Jan 26, 2023 1:09:52 AM org.grobid.core.main.GrobidHomeFinder getGrobidHomePathOrLoadFromClasspath\n",
            "WARNING: No Grobid property was provided. Attempting to find Grobid home in the current directory...\n",
            "Jan 26, 2023 1:09:52 AM org.grobid.core.main.GrobidHomeFinder findGrobidHomeOrFail\n",
            "WARNING: ***************************************************************\n",
            "Jan 26, 2023 1:09:52 AM org.grobid.core.main.GrobidHomeFinder findGrobidHomeOrFail\n",
            "WARNING: *** USING GROBID HOME: /content/grobid-0.7.2/grobid-home\n",
            "Jan 26, 2023 1:09:52 AM org.grobid.core.main.GrobidHomeFinder findGrobidHomeOrFail\n",
            "WARNING: ***************************************************************\n",
            "Jan 26, 2023 1:09:52 AM org.grobid.core.main.GrobidHomeFinder getGrobidHomePathOrLoadFromClasspath\n",
            "WARNING: No Grobid property was provided. Attempting to find Grobid home in the current directory...\n",
            "Jan 26, 2023 1:09:52 AM org.grobid.core.main.GrobidHomeFinder findGrobidHomeOrFail\n",
            "WARNING: ***************************************************************\n",
            "Jan 26, 2023 1:09:52 AM org.grobid.core.main.GrobidHomeFinder findGrobidHomeOrFail\n",
            "WARNING: *** USING GROBID HOME: /content/grobid-0.7.2/grobid-home\n",
            "Jan 26, 2023 1:09:52 AM org.grobid.core.main.GrobidHomeFinder findGrobidHomeOrFail\n",
            "WARNING: ***************************************************************\n",
            "Jan 26, 2023 1:09:52 AM org.grobid.core.main.GrobidHomeFinder findGrobidConfigOrFail\n",
            "WARNING: Grobid config file location was not explicitly set via 'org.grobid.config' system variable, defaulting to: /content/grobid-0.7.2/grobid-home/config/grobid.yaml\n",
            "Processing: /content/input/81ad73cd5644bc251496cee448f4d40e.pdf\n",
            "Jan 26, 2023 1:09:53 AM org.grobid.core.main.LibraryLoader load\n",
            "INFO: Loading external native sequence labelling library\n",
            "Jan 26, 2023 1:09:53 AM org.grobid.core.main.LibraryLoader load\n",
            "INFO: Loading Wapiti native library...\n",
            "Jan 26, 2023 1:09:53 AM org.grobid.core.main.LibraryLoader load\n",
            "INFO: Native library for sequence labelling loaded\n",
            "Jan 26, 2023 1:09:53 AM org.grobid.core.lexicon.Lexicon initDictionary\n",
            "INFO: Initiating dictionary\n",
            "Jan 26, 2023 1:09:53 AM org.grobid.core.lexicon.Lexicon initDictionary\n",
            "INFO: End of Initialization of dictionary\n",
            "Jan 26, 2023 1:09:53 AM org.grobid.core.lexicon.Lexicon initNames\n",
            "INFO: Initiating names\n",
            "Jan 26, 2023 1:09:53 AM org.grobid.core.lexicon.Lexicon initNames\n",
            "INFO: End of initialization of names\n",
            "Jan 26, 2023 1:09:54 AM org.grobid.core.lexicon.Lexicon initCountryCodes\n",
            "INFO: Initiating country codes\n",
            "Jan 26, 2023 1:09:54 AM org.grobid.core.lexicon.Lexicon initCountryCodes\n",
            "INFO: End of initialization of country codes\n",
            "Jan 26, 2023 1:09:54 AM org.grobid.core.jni.WapitiModel init\n",
            "INFO: Loading model: /content/grobid-0.7.2/grobid-home/models/fulltext/model.wapiti (size: 26707735)\n",
            "[Wapiti] Loading model: \"/content/grobid-0.7.2/grobid-home/models/fulltext/model.wapiti\"\n",
            "Model path: /content/grobid-0.7.2/grobid-home/models/fulltext/model.wapiti\n",
            "Jan 26, 2023 1:09:59 AM org.grobid.core.jni.WapitiModel init\n",
            "INFO: Loading model: /content/grobid-0.7.2/grobid-home/models/segmentation/model.wapiti (size: 50699532)\n",
            "[Wapiti] Loading model: \"/content/grobid-0.7.2/grobid-home/models/segmentation/model.wapiti\"\n",
            "Model path: /content/grobid-0.7.2/grobid-home/models/segmentation/model.wapiti\n",
            "Jan 26, 2023 1:10:12 AM org.grobid.core.jni.WapitiModel init\n",
            "INFO: Loading model: /content/grobid-0.7.2/grobid-home/models/header/model.wapiti (size: 19086190)\n",
            "[Wapiti] Loading model: \"/content/grobid-0.7.2/grobid-home/models/header/model.wapiti\"\n",
            "Model path: /content/grobid-0.7.2/grobid-home/models/header/model.wapiti\n",
            "Jan 26, 2023 1:10:39 AM org.grobid.core.jni.WapitiModel init\n",
            "INFO: Loading model: /content/grobid-0.7.2/grobid-home/models/name/header/model.wapiti (size: 2524527)\n",
            "[Wapiti] Loading model: \"/content/grobid-0.7.2/grobid-home/models/name/header/model.wapiti\"\n",
            "Model path: /content/grobid-0.7.2/grobid-home/models/name/header/model.wapiti\n",
            "Jan 26, 2023 1:10:39 AM org.grobid.core.jni.WapitiModel init\n",
            "INFO: Loading model: /content/grobid-0.7.2/grobid-home/models/name/citation/model.wapiti (size: 477425)\n",
            "[Wapiti] Loading model: \"/content/grobid-0.7.2/grobid-home/models/name/citation/model.wapiti\"\n",
            "Model path: /content/grobid-0.7.2/grobid-home/models/name/citation/model.wapiti\n",
            "Jan 26, 2023 1:10:40 AM org.grobid.core.jni.WapitiModel init\n",
            "INFO: Loading model: /content/grobid-0.7.2/grobid-home/models/affiliation-address/model.wapiti (size: 2766570)\n",
            "[Wapiti] Loading model: \"/content/grobid-0.7.2/grobid-home/models/affiliation-address/model.wapiti\"\n",
            "Model path: /content/grobid-0.7.2/grobid-home/models/affiliation-address/model.wapiti\n",
            "Jan 26, 2023 1:10:42 AM org.grobid.core.jni.WapitiModel init\n",
            "INFO: Loading model: /content/grobid-0.7.2/grobid-home/models/citation/model.wapiti (size: 18276626)\n",
            "[Wapiti] Loading model: \"/content/grobid-0.7.2/grobid-home/models/citation/model.wapiti\"\n",
            "Model path: /content/grobid-0.7.2/grobid-home/models/citation/model.wapiti\n",
            "Jan 26, 2023 1:10:45 AM org.grobid.core.jni.WapitiModel init\n",
            "INFO: Loading model: /content/grobid-0.7.2/grobid-home/models/reference-segmenter/model.wapiti (size: 8103029)\n",
            "[Wapiti] Loading model: \"/content/grobid-0.7.2/grobid-home/models/reference-segmenter/model.wapiti\"\n",
            "Model path: /content/grobid-0.7.2/grobid-home/models/reference-segmenter/model.wapiti\n",
            "Jan 26, 2023 1:10:50 AM org.grobid.core.jni.WapitiModel init\n",
            "INFO: Loading model: /content/grobid-0.7.2/grobid-home/models/date/model.wapiti (size: 102435)\n",
            "[Wapiti] Loading model: \"/content/grobid-0.7.2/grobid-home/models/date/model.wapiti\"\n",
            "Model path: /content/grobid-0.7.2/grobid-home/models/date/model.wapiti\n",
            "Jan 26, 2023 1:10:52 AM org.grobid.core.jni.WapitiModel init\n",
            "INFO: Loading model: /content/grobid-0.7.2/grobid-home/models/figure/model.wapiti (size: 422671)\n",
            "[Wapiti] Loading model: \"/content/grobid-0.7.2/grobid-home/models/figure/model.wapiti\"\n",
            "Model path: /content/grobid-0.7.2/grobid-home/models/figure/model.wapiti\n",
            "Jan 26, 2023 1:10:52 AM org.grobid.core.jni.WapitiModel init\n",
            "INFO: Loading model: /content/grobid-0.7.2/grobid-home/models/table/model.wapiti (size: 1427222)\n",
            "[Wapiti] Loading model: \"/content/grobid-0.7.2/grobid-home/models/table/model.wapiti\"\n",
            "Model path: /content/grobid-0.7.2/grobid-home/models/table/model.wapiti\n",
            "Processing: /content/input/910672085a3642b92532520141e2b433.pdf\n",
            "Processing: /content/input/918ef675629f73c91e9c6af6d8856b6f.pdf\n",
            "Processing: /content/input/9dcaddd54615d676b6ef53da1165fffa.pdf\n",
            "Processing: /content/input/2cea2a1e4d893f54749e7e1bbba29c58.pdf\n",
            "Processing: /content/input/fcac5a1157f8287dfa69b0e7d8239779.pdf\n",
            "Processing: /content/input/b21f5760672c52d86c8ed5fb2ba48c89.pdf\n",
            "Processing: /content/input/7259145851d671bd48b7a0ac1bc47ef5.pdf\n",
            "Processing: /content/input/11461ee7e143791c27a299b4634ee708.pdf\n",
            "Processing: /content/input/6d8e78b66fbe755f7306effe4f8e6edb.pdf\n",
            "Jan 26, 2023 1:11:58 AM org.grobid.core.utilities.matching.ReferenceMarkerMatcher getNumberedLabels\n",
            "WARNING: Cannot parse citation reference range: [Fig,  , 12, -, Fig,  , 15, .,  ,  ]\n",
            "Processing: /content/input/d859252b5737208afb983980df7aaf1d.pdf\n",
            "Processing: /content/input/c0714317c8017f68423bacc20e35f8d0.pdf\n",
            "Jan 26, 2023 1:12:06 AM org.grobid.core.document.Document assignGraphicObjectsToFigures\n",
            "INFO: Standalone figure on page: 1\n",
            "Processing: /content/input/fe7f75cc73d87758fb2df200bfba4c86.pdf\n",
            "Processing: /content/input/abe64f5fa9cbec3c9eb91989213c77dc.pdf\n",
            "Jan 26, 2023 1:12:14 AM org.grobid.core.document.Document assignGraphicObjectsToFigures\n",
            "INFO: Standalone figure on page: 12\n",
            "Processing: /content/input/140dba904eb0148088b6de9c775b0cc2.pdf\n",
            "Processing: /content/input/77742872f03cf084273887adcab22b7b.pdf\n",
            "Processing: /content/input/17a89b0754ba9100424267cb73c77834.pdf\n",
            "Processing: /content/input/10.1109@TIV.2020.3010832.pdf\n",
            "Jan 26, 2023 1:12:38 AM org.grobid.core.engines.ProcessEngine processFullTextDirectory\n",
            "SEVERE: An error occured while processing the file /content/input/10.1109@TIV.2020.3010832.pdf. Continuing the process for the other files\n",
            "org.grobid.core.exceptions.GrobidException: [PDFALTO_CONVERSION_FAILURE] PDF to XML conversion failed on pdf file /content/input/10.1109@TIV.2020.3010832.pdf \n",
            "\tat org.grobid.core.document.DocumentSource.processPdfaltoThreadMode(DocumentSource.java:211)\n",
            "\tat org.grobid.core.document.DocumentSource.pdfalto(DocumentSource.java:157)\n",
            "\tat org.grobid.core.document.DocumentSource.fromPdf(DocumentSource.java:64)\n",
            "\tat org.grobid.core.engines.FullTextParser.processing(FullTextParser.java:108)\n",
            "\tat org.grobid.core.engines.Engine.fullTextToTEIDoc(Engine.java:507)\n",
            "\tat org.grobid.core.engines.Engine.fullTextToTEI(Engine.java:479)\n",
            "\tat org.grobid.core.engines.ProcessEngine.processFullTextDirectory(ProcessEngine.java:183)\n",
            "\tat org.grobid.core.engines.ProcessEngine.processFullText(ProcessEngine.java:142)\n",
            "\tat java.base/jdk.internal.reflect.NativeMethodAccessorImpl.invoke0(Native Method)\n",
            "\tat java.base/jdk.internal.reflect.NativeMethodAccessorImpl.invoke(NativeMethodAccessorImpl.java:62)\n",
            "\tat java.base/jdk.internal.reflect.DelegatingMethodAccessorImpl.invoke(DelegatingMethodAccessorImpl.java:43)\n",
            "\tat java.base/java.lang.reflect.Method.invoke(Method.java:566)\n",
            "\tat org.grobid.core.utilities.Utilities.launchMethod(Utilities.java:339)\n",
            "\tat org.grobid.core.main.batch.GrobidMain.main(GrobidMain.java:189)\n",
            "\n",
            "Processing: /content/input/ba10330db6bfb03c7fc6fe6b6ffb027c.pdf\n",
            "Jan 26, 2023 1:12:38 AM org.grobid.core.engines.ProcessEngine processFullTextDirectory\n",
            "SEVERE: An error occured while processing the file /content/input/ba10330db6bfb03c7fc6fe6b6ffb027c.pdf. Continuing the process for the other files\n",
            "org.grobid.core.exceptions.GrobidException: [PDFALTO_CONVERSION_FAILURE] PDF to XML conversion failed on pdf file /content/input/ba10330db6bfb03c7fc6fe6b6ffb027c.pdf \n",
            "\tat org.grobid.core.document.DocumentSource.processPdfaltoThreadMode(DocumentSource.java:211)\n",
            "\tat org.grobid.core.document.DocumentSource.pdfalto(DocumentSource.java:157)\n",
            "\tat org.grobid.core.document.DocumentSource.fromPdf(DocumentSource.java:64)\n",
            "\tat org.grobid.core.engines.FullTextParser.processing(FullTextParser.java:108)\n",
            "\tat org.grobid.core.engines.Engine.fullTextToTEIDoc(Engine.java:507)\n",
            "\tat org.grobid.core.engines.Engine.fullTextToTEI(Engine.java:479)\n",
            "\tat org.grobid.core.engines.ProcessEngine.processFullTextDirectory(ProcessEngine.java:183)\n",
            "\tat org.grobid.core.engines.ProcessEngine.processFullText(ProcessEngine.java:142)\n",
            "\tat java.base/jdk.internal.reflect.NativeMethodAccessorImpl.invoke0(Native Method)\n",
            "\tat java.base/jdk.internal.reflect.NativeMethodAccessorImpl.invoke(NativeMethodAccessorImpl.java:62)\n",
            "\tat java.base/jdk.internal.reflect.DelegatingMethodAccessorImpl.invoke(DelegatingMethodAccessorImpl.java:43)\n",
            "\tat java.base/java.lang.reflect.Method.invoke(Method.java:566)\n",
            "\tat org.grobid.core.utilities.Utilities.launchMethod(Utilities.java:339)\n",
            "\tat org.grobid.core.main.batch.GrobidMain.main(GrobidMain.java:189)\n",
            "\n",
            "Processing: /content/input/185d8798e38f31e74ef2c83996a76bd0.pdf\n",
            "Processing: /content/input/ec928cea2ff9fbc460a90c56c372f1fc.pdf\n",
            "Processing: /content/input/c7d12be1c21bded16c674de4e8b17645.pdf\n",
            "\n",
            "************************************************************************************\n",
            "COUNTER: org.grobid.core.engines.counters.TableRejectionCounters\n",
            "************************************************************************************\n",
            "------------------------------------------------------------------------------------\n",
            "  CANNOT_PARSE_LABEL_TO_INT:        34\n",
            "  EMPTY_LABEL_OR_HEADER_OR_CONTENT: 48\n",
            "====================================================================================\n",
            "\n",
            "************************************************************************************\n",
            "COUNTER: org.grobid.core.engines.counters.ReferenceMarkerMatcherCounters\n",
            "************************************************************************************\n",
            "------------------------------------------------------------------------------------\n",
            "  UNMATCHED_REF_MARKERS: 2\n",
            "  STYLE_NUMBERED:        876\n",
            "  NO_CANDIDATES:         2\n",
            "  INPUT_REF_STRINGS_CNT: 882\n",
            "  MATCHED_REF_MARKERS:   939\n",
            "  STYLE_OTHER:           6\n",
            "====================================================================================\n",
            "\n",
            "************************************************************************************\n",
            "COUNTER: org.grobid.core.engines.counters.FigureCounters\n",
            "************************************************************************************\n",
            "------------------------------------------------------------------------------------\n",
            "  SKIPPED_BAD_STANDALONE_FIGURES:                                     73\n",
            "  SKIPPED_DUE_TO_MISMATCH_OF_CAPTIONS_AND_VECTOR_AND_BITMAP_GRAPHICS: 2\n",
            "  SKIPPED_SMALL_STANDALONE_FIGURES:                                   73\n",
            "====================================================================================\n",
            "\n",
            "************************************************************************************\n",
            "COUNTER: org.grobid.core.engines.label.TaggingLabelImpl\n",
            "************************************************************************************\n",
            "------------------------------------------------------------------------------------\n",
            "  HEADER_DOCTYPE:           2\n",
            "  CITATION_TITLE:           632\n",
            "  HEADER_DATE:              2\n",
            "  NAME-HEADER_MIDDLENAME:   21\n",
            "  HEADER_KEYWORD:           12\n",
            "  TABLE_FIGDESC:            52\n",
            "  NAME-HEADER_SURNAME:      127\n",
            "  NAME-CITATION_OTHER:      3415\n",
            "  CITATION_BOOKTITLE:       210\n",
            "  HEADER_FUNDING:           9\n",
            "  HEADER_ADDRESS:           38\n",
            "  HEADER_AFFILIATION:       43\n",
            "  CITATION_NOTE:            30\n",
            "  FULLTEXT_CITATION_MARKER: 1757\n",
            "  TABLE_NOTE:               28\n",
            "  HEADER_EMAIL:             42\n",
            "  FULLTEXT_TABLE_MARKER:    146\n",
            "  CITATION_WEB:             27\n",
            "  TABLE_LABEL:              40\n",
            "  FULLTEXT_SECTION:         611\n",
            "  NAME-HEADER_FORENAME:     128\n",
            "  DATE_YEAR:                673\n",
            "  TABLE_CONTENT:            73\n",
            "  CITATION_ISSUE:           251\n",
            "  HEADER_MEETING:           2\n",
            "  HEADER_EDITOR:            1\n",
            "  CITATION_SERIES:          2\n",
            "  CITATION_JOURNAL:         383\n",
            "  NAME-CITATION_SURNAME:    1862\n",
            "  TABLE_FIGURE_HEAD:        71\n",
            "  FULLTEXT_EQUATION_MARKER: 238\n",
            "  CITATION_OTHER:           3754\n",
            "  FULLTEXT_FIGURE_MARKER:   760\n",
            "  HEADER_TITLE:             19\n",
            "  CITATION_TECH:            11\n",
            "  FIGURE_CONTENT:           111\n",
            "  FIGURE_LABEL:             238\n",
            "  FULLTEXT_EQUATION_LABEL:  554\n",
            "  HEADER_OTHER:             170\n",
            "  FULLTEXT_EQUATION:        1018\n",
            "  CITATION_DATE:            658\n",
            "  CITATION_AUTHOR:          597\n",
            "  FULLTEXT_FIGURE:          480\n",
            "  FULLTEXT_TABLE:           166\n",
            "  CITATION_EDITOR:          6\n",
            "  FULLTEXT_OTHER:           6\n",
            "  HEADER_SUBMISSION:        24\n",
            "  NAME-HEADER_OTHER:        146\n",
            "  FIGURE_FIGDESC:           287\n",
            "  CITATION_VOLUME:          344\n",
            "  CITATION_LOCATION:        84\n",
            "  NAME-HEADER_TITLE:        18\n",
            "  DATE_MONTH:               175\n",
            "  CITATION_INSTITUTION:     30\n",
            "  HEADER_ABSTRACT:          26\n",
            "  HEADER_REFERENCE:         16\n",
            "  CITATION_PAGES:           487\n",
            "  HEADER_AUTHOR:            41\n",
            "  NAME-HEADER_MARKER:       14\n",
            "  DATE_OTHER:               177\n",
            "  NAME-CITATION_FORENAME:   1845\n",
            "  CITATION_PUBLISHER:       61\n",
            "  HEADER_PUBNUM:            14\n",
            "  CITATION_PUBNUM:          26\n",
            "  NAME-CITATION_MIDDLENAME: 378\n",
            "  HEADER_COPYRIGHT:         29\n",
            "  FULLTEXT_PARAGRAPH:       5665\n",
            "  FIGURE_FIGURE_HEAD:       441\n",
            "  DATE_DAY:                 4\n",
            "====================================================================================\n",
            "\n",
            "************************************************************************************\n",
            "COUNTER: FigureCounters\n",
            "************************************************************************************\n",
            "------------------------------------------------------------------------------------\n",
            "  STANDALONE_FIGURES:           2\n",
            "  ASSIGNED_GRAPHICS_TO_FIGURES: 111\n",
            "====================================================================================\n",
            "====================================================================================\n",
            "\n"
          ]
        }
      ],
      "source": [
        "# GrobId im Batch-Modus. Nimmt alle PDFs im Input-Verzeichnis und konvertiert sie in XML/TEI im Output-Verzeichnis.\n",
        "# Gibt ein paar Fehler, ich glaube, weil einige PDFs leer sind, keinen Inhalt haben.\n",
        "# Braucht ein paar Minuten.\n",
        "!java -Xmx4G -jar /content/grobid-0.7.2/grobid-core/build/libs/grobid-core-0.7.2-onejar.jar -gH /content/grobid-0.7.2/grobid-home -dIn /content/input/ -dOut /content/output -exe processFullText "
      ]
    },
    {
      "cell_type": "code",
      "execution_count": 10,
      "metadata": {
        "colab": {
          "base_uri": "https://localhost:8080/"
        },
        "id": "5B2XkMGgntjP",
        "outputId": "1f399665-7913-435a-80ca-d9a05bc3acbb"
      },
      "outputs": [
        {
          "output_type": "stream",
          "name": "stdout",
          "text": [
            "20\n"
          ]
        }
      ],
      "source": [
        "print(len([entry for entry in os.listdir(\"/content/output\") if os.path.isfile(os.path.join(\"/content/output\", entry))]))"
      ]
    },
    {
      "cell_type": "code",
      "execution_count": 11,
      "metadata": {
        "colab": {
          "base_uri": "https://localhost:8080/"
        },
        "id": "zjGb5J1uhcgk",
        "outputId": "42e18951-bf5b-48fa-b182-59a2a99c6325"
      },
      "outputs": [
        {
          "output_type": "stream",
          "name": "stdout",
          "text": [
            "Looking in indexes: https://pypi.org/simple, https://us-python.pkg.dev/colab-wheels/public/simple/\n",
            "Collecting grobid_tei_xml\n",
            "  Downloading grobid_tei_xml-0.1.3-py2.py3-none-any.whl (14 kB)\n",
            "Installing collected packages: grobid_tei_xml\n",
            "Successfully installed grobid_tei_xml-0.1.3\n"
          ]
        }
      ],
      "source": [
        "# GrobId-TEI-XML-Parser installieren\n",
        "!pip install grobid_tei_xml"
      ]
    },
    {
      "cell_type": "code",
      "execution_count": null,
      "metadata": {
        "id": "TOc5nMiCixrV"
      },
      "outputs": [],
      "source": [
        "# Metadaten mit GrobId-TEI-XML-Parser auslesen:\n",
        "# So könnte man auch eine \"Rename\"-Funktion implementieren: Autoren und Titel stehen ja jetzt im XML/TEI.\n",
        "import grobid_tei_xml\n",
        "\n",
        "# Für jede Datei im Output-Folder:\n",
        "for file in os.listdir(\"/content/output\"):\n",
        "    # Nur XML-Dateien\n",
        "    if file.endswith(\".xml\"):\n",
        "        # Parsen und Metadaten auslesen:\n",
        "        with open(f\"/content/output/{file}\", 'r') as xml_file:\n",
        "          doc = grobid_tei_xml.parse_document_xml(xml_file.read())\n",
        "          print(\"file name: \" + file)\n",
        "          if doc.header.title is not None:\n",
        "            print(\"title: \" + doc.header.title)\n",
        "          if doc.header.authors is not None:\n",
        "            print(\"authors: \" + \", \".join([a.full_name for a in doc.header.authors]))\n",
        "          if doc.header.doi is not None:\n",
        "            print(\"doi: \" + str(doc.header.doi))\n",
        "          if doc.abstract is not None:\n",
        "            print(\"abstract: \" + doc.abstract)\n",
        "          #if doc.body is not None:\n",
        "            #print(doc.body)\n",
        "          if doc.citations is not None:\n",
        "            for citation in doc.citations:\n",
        "              print(\"citation authors: \" + \", \".join([author.full_name for author in citation.authors]))\n",
        "\n",
        "            "
      ]
    },
    {
      "cell_type": "code",
      "execution_count": 12,
      "metadata": {
        "id": "2hCsIp9DWK_N"
      },
      "outputs": [],
      "source": [
        "# \"Rename\"\n",
        "\n",
        "import os\n",
        "import shutil\n",
        "import grobid_tei_xml\n",
        "\n",
        "for file in os.listdir(\"/content/output\"):\n",
        "  # Nur XML-Dateien\n",
        "  if file.endswith(\".xml\"):\n",
        "      # Parsen und Autor, Ausgabe, Titel auslesen:\n",
        "      with open(f\"/content/output/{file}\", 'r') as xml_file:\n",
        "        doc = grobid_tei_xml.parse_document_xml(xml_file.read())\n",
        "\n",
        "        # Titel\n",
        "        if doc.header.title is not None:\n",
        "        # Titel bei 150 Zeichen abschneiden, weil sonst zu lange Dateinamen für das Dateisystem.\n",
        "          title = (doc.header.title[:150]) if len(doc.header.title) > 150 else doc.header.title\n",
        "          # Ungültige Dateinamen-Buchstaben löschen.\n",
        "          title = \"\".join(x for x in title if x.isprintable())\n",
        "        # Wie ist der Pfad zum originalen PDF?\n",
        "        pdf_path = \"/content/input/\" + file.replace(\".tei.xml\", \".pdf\")\n",
        "        \n",
        "        # Umbenennen\n",
        "        shutil.move(pdf_path, f\"/content/input/{title}.pdf\")\n",
        "        "
      ]
    },
    {
      "cell_type": "code",
      "execution_count": 13,
      "metadata": {
        "colab": {
          "base_uri": "https://localhost:8080/"
        },
        "id": "vnvr2Sj-7UBY",
        "outputId": "7dc1633c-fab9-475e-842c-afe19df769c9"
      },
      "outputs": [
        {
          "output_type": "stream",
          "name": "stdout",
          "text": [
            "Looking in indexes: https://pypi.org/simple, https://us-python.pkg.dev/colab-wheels/public/simple/\n",
            "Requirement already satisfied: spacy in /usr/local/lib/python3.8/dist-packages (3.4.4)\n",
            "Requirement already satisfied: packaging>=20.0 in /usr/local/lib/python3.8/dist-packages (from spacy) (21.3)\n",
            "Requirement already satisfied: catalogue<2.1.0,>=2.0.6 in /usr/local/lib/python3.8/dist-packages (from spacy) (2.0.8)\n",
            "Requirement already satisfied: langcodes<4.0.0,>=3.2.0 in /usr/local/lib/python3.8/dist-packages (from spacy) (3.3.0)\n",
            "Requirement already satisfied: spacy-legacy<3.1.0,>=3.0.10 in /usr/local/lib/python3.8/dist-packages (from spacy) (3.0.11)\n",
            "Requirement already satisfied: pydantic!=1.8,!=1.8.1,<1.11.0,>=1.7.4 in /usr/local/lib/python3.8/dist-packages (from spacy) (1.10.4)\n",
            "Requirement already satisfied: murmurhash<1.1.0,>=0.28.0 in /usr/local/lib/python3.8/dist-packages (from spacy) (1.0.9)\n",
            "Requirement already satisfied: tqdm<5.0.0,>=4.38.0 in /usr/local/lib/python3.8/dist-packages (from spacy) (4.64.1)\n",
            "Requirement already satisfied: jinja2 in /usr/local/lib/python3.8/dist-packages (from spacy) (2.11.3)\n",
            "Requirement already satisfied: requests<3.0.0,>=2.13.0 in /usr/local/lib/python3.8/dist-packages (from spacy) (2.25.1)\n",
            "Requirement already satisfied: preshed<3.1.0,>=3.0.2 in /usr/local/lib/python3.8/dist-packages (from spacy) (3.0.8)\n",
            "Requirement already satisfied: wasabi<1.1.0,>=0.9.1 in /usr/local/lib/python3.8/dist-packages (from spacy) (0.10.1)\n",
            "Requirement already satisfied: srsly<3.0.0,>=2.4.3 in /usr/local/lib/python3.8/dist-packages (from spacy) (2.4.5)\n",
            "Requirement already satisfied: cymem<2.1.0,>=2.0.2 in /usr/local/lib/python3.8/dist-packages (from spacy) (2.0.7)\n",
            "Requirement already satisfied: numpy>=1.15.0 in /usr/local/lib/python3.8/dist-packages (from spacy) (1.21.6)\n",
            "Requirement already satisfied: typer<0.8.0,>=0.3.0 in /usr/local/lib/python3.8/dist-packages (from spacy) (0.7.0)\n",
            "Requirement already satisfied: pathy>=0.3.5 in /usr/local/lib/python3.8/dist-packages (from spacy) (0.10.1)\n",
            "Requirement already satisfied: setuptools in /usr/local/lib/python3.8/dist-packages (from spacy) (57.4.0)\n",
            "Requirement already satisfied: thinc<8.2.0,>=8.1.0 in /usr/local/lib/python3.8/dist-packages (from spacy) (8.1.6)\n",
            "Requirement already satisfied: smart-open<7.0.0,>=5.2.1 in /usr/local/lib/python3.8/dist-packages (from spacy) (6.3.0)\n",
            "Requirement already satisfied: spacy-loggers<2.0.0,>=1.0.0 in /usr/local/lib/python3.8/dist-packages (from spacy) (1.0.4)\n",
            "Requirement already satisfied: pyparsing!=3.0.5,>=2.0.2 in /usr/local/lib/python3.8/dist-packages (from packaging>=20.0->spacy) (3.0.9)\n",
            "Requirement already satisfied: typing-extensions>=4.2.0 in /usr/local/lib/python3.8/dist-packages (from pydantic!=1.8,!=1.8.1,<1.11.0,>=1.7.4->spacy) (4.4.0)\n",
            "Requirement already satisfied: idna<3,>=2.5 in /usr/local/lib/python3.8/dist-packages (from requests<3.0.0,>=2.13.0->spacy) (2.10)\n",
            "Requirement already satisfied: urllib3<1.27,>=1.21.1 in /usr/local/lib/python3.8/dist-packages (from requests<3.0.0,>=2.13.0->spacy) (1.24.3)\n",
            "Requirement already satisfied: chardet<5,>=3.0.2 in /usr/local/lib/python3.8/dist-packages (from requests<3.0.0,>=2.13.0->spacy) (4.0.0)\n",
            "Requirement already satisfied: certifi>=2017.4.17 in /usr/local/lib/python3.8/dist-packages (from requests<3.0.0,>=2.13.0->spacy) (2022.12.7)\n",
            "Requirement already satisfied: blis<0.8.0,>=0.7.8 in /usr/local/lib/python3.8/dist-packages (from thinc<8.2.0,>=8.1.0->spacy) (0.7.9)\n",
            "Requirement already satisfied: confection<1.0.0,>=0.0.1 in /usr/local/lib/python3.8/dist-packages (from thinc<8.2.0,>=8.1.0->spacy) (0.0.3)\n",
            "Requirement already satisfied: click<9.0.0,>=7.1.1 in /usr/local/lib/python3.8/dist-packages (from typer<0.8.0,>=0.3.0->spacy) (7.1.2)\n",
            "Requirement already satisfied: MarkupSafe>=0.23 in /usr/local/lib/python3.8/dist-packages (from jinja2->spacy) (2.0.1)\n",
            "/usr/local/lib/python3.8/dist-packages/torch/cuda/__init__.py:497: UserWarning: Can't initialize NVML\n",
            "  warnings.warn(\"Can't initialize NVML\")\n",
            "2023-01-26 01:13:41.168844: E tensorflow/stream_executor/cuda/cuda_driver.cc:271] failed call to cuInit: CUDA_ERROR_NO_DEVICE: no CUDA-capable device is detected\n",
            "Looking in indexes: https://pypi.org/simple, https://us-python.pkg.dev/colab-wheels/public/simple/\n",
            "Collecting en-core-web-sm==3.4.1\n",
            "  Downloading https://github.com/explosion/spacy-models/releases/download/en_core_web_sm-3.4.1/en_core_web_sm-3.4.1-py3-none-any.whl (12.8 MB)\n",
            "\u001b[2K     \u001b[90m━━━━━━━━━━━━━━━━━━━━━━━━━━━━━━━━━━━━━━━━\u001b[0m \u001b[32m12.8/12.8 MB\u001b[0m \u001b[31m72.6 MB/s\u001b[0m eta \u001b[36m0:00:00\u001b[0m\n",
            "\u001b[?25hRequirement already satisfied: spacy<3.5.0,>=3.4.0 in /usr/local/lib/python3.8/dist-packages (from en-core-web-sm==3.4.1) (3.4.4)\n",
            "Requirement already satisfied: catalogue<2.1.0,>=2.0.6 in /usr/local/lib/python3.8/dist-packages (from spacy<3.5.0,>=3.4.0->en-core-web-sm==3.4.1) (2.0.8)\n",
            "Requirement already satisfied: smart-open<7.0.0,>=5.2.1 in /usr/local/lib/python3.8/dist-packages (from spacy<3.5.0,>=3.4.0->en-core-web-sm==3.4.1) (6.3.0)\n",
            "Requirement already satisfied: spacy-legacy<3.1.0,>=3.0.10 in /usr/local/lib/python3.8/dist-packages (from spacy<3.5.0,>=3.4.0->en-core-web-sm==3.4.1) (3.0.11)\n",
            "Requirement already satisfied: spacy-loggers<2.0.0,>=1.0.0 in /usr/local/lib/python3.8/dist-packages (from spacy<3.5.0,>=3.4.0->en-core-web-sm==3.4.1) (1.0.4)\n",
            "Requirement already satisfied: requests<3.0.0,>=2.13.0 in /usr/local/lib/python3.8/dist-packages (from spacy<3.5.0,>=3.4.0->en-core-web-sm==3.4.1) (2.25.1)\n",
            "Requirement already satisfied: langcodes<4.0.0,>=3.2.0 in /usr/local/lib/python3.8/dist-packages (from spacy<3.5.0,>=3.4.0->en-core-web-sm==3.4.1) (3.3.0)\n",
            "Requirement already satisfied: cymem<2.1.0,>=2.0.2 in /usr/local/lib/python3.8/dist-packages (from spacy<3.5.0,>=3.4.0->en-core-web-sm==3.4.1) (2.0.7)\n",
            "Requirement already satisfied: pydantic!=1.8,!=1.8.1,<1.11.0,>=1.7.4 in /usr/local/lib/python3.8/dist-packages (from spacy<3.5.0,>=3.4.0->en-core-web-sm==3.4.1) (1.10.4)\n",
            "Requirement already satisfied: jinja2 in /usr/local/lib/python3.8/dist-packages (from spacy<3.5.0,>=3.4.0->en-core-web-sm==3.4.1) (2.11.3)\n",
            "Requirement already satisfied: srsly<3.0.0,>=2.4.3 in /usr/local/lib/python3.8/dist-packages (from spacy<3.5.0,>=3.4.0->en-core-web-sm==3.4.1) (2.4.5)\n",
            "Requirement already satisfied: typer<0.8.0,>=0.3.0 in /usr/local/lib/python3.8/dist-packages (from spacy<3.5.0,>=3.4.0->en-core-web-sm==3.4.1) (0.7.0)\n",
            "Requirement already satisfied: wasabi<1.1.0,>=0.9.1 in /usr/local/lib/python3.8/dist-packages (from spacy<3.5.0,>=3.4.0->en-core-web-sm==3.4.1) (0.10.1)\n",
            "Requirement already satisfied: preshed<3.1.0,>=3.0.2 in /usr/local/lib/python3.8/dist-packages (from spacy<3.5.0,>=3.4.0->en-core-web-sm==3.4.1) (3.0.8)\n",
            "Requirement already satisfied: setuptools in /usr/local/lib/python3.8/dist-packages (from spacy<3.5.0,>=3.4.0->en-core-web-sm==3.4.1) (57.4.0)\n",
            "Requirement already satisfied: numpy>=1.15.0 in /usr/local/lib/python3.8/dist-packages (from spacy<3.5.0,>=3.4.0->en-core-web-sm==3.4.1) (1.21.6)\n",
            "Requirement already satisfied: tqdm<5.0.0,>=4.38.0 in /usr/local/lib/python3.8/dist-packages (from spacy<3.5.0,>=3.4.0->en-core-web-sm==3.4.1) (4.64.1)\n",
            "Requirement already satisfied: packaging>=20.0 in /usr/local/lib/python3.8/dist-packages (from spacy<3.5.0,>=3.4.0->en-core-web-sm==3.4.1) (21.3)\n",
            "Requirement already satisfied: pathy>=0.3.5 in /usr/local/lib/python3.8/dist-packages (from spacy<3.5.0,>=3.4.0->en-core-web-sm==3.4.1) (0.10.1)\n",
            "Requirement already satisfied: murmurhash<1.1.0,>=0.28.0 in /usr/local/lib/python3.8/dist-packages (from spacy<3.5.0,>=3.4.0->en-core-web-sm==3.4.1) (1.0.9)\n",
            "Requirement already satisfied: thinc<8.2.0,>=8.1.0 in /usr/local/lib/python3.8/dist-packages (from spacy<3.5.0,>=3.4.0->en-core-web-sm==3.4.1) (8.1.6)\n",
            "Requirement already satisfied: pyparsing!=3.0.5,>=2.0.2 in /usr/local/lib/python3.8/dist-packages (from packaging>=20.0->spacy<3.5.0,>=3.4.0->en-core-web-sm==3.4.1) (3.0.9)\n",
            "Requirement already satisfied: typing-extensions>=4.2.0 in /usr/local/lib/python3.8/dist-packages (from pydantic!=1.8,!=1.8.1,<1.11.0,>=1.7.4->spacy<3.5.0,>=3.4.0->en-core-web-sm==3.4.1) (4.4.0)\n",
            "Requirement already satisfied: urllib3<1.27,>=1.21.1 in /usr/local/lib/python3.8/dist-packages (from requests<3.0.0,>=2.13.0->spacy<3.5.0,>=3.4.0->en-core-web-sm==3.4.1) (1.24.3)\n",
            "Requirement already satisfied: idna<3,>=2.5 in /usr/local/lib/python3.8/dist-packages (from requests<3.0.0,>=2.13.0->spacy<3.5.0,>=3.4.0->en-core-web-sm==3.4.1) (2.10)\n",
            "Requirement already satisfied: chardet<5,>=3.0.2 in /usr/local/lib/python3.8/dist-packages (from requests<3.0.0,>=2.13.0->spacy<3.5.0,>=3.4.0->en-core-web-sm==3.4.1) (4.0.0)\n",
            "Requirement already satisfied: certifi>=2017.4.17 in /usr/local/lib/python3.8/dist-packages (from requests<3.0.0,>=2.13.0->spacy<3.5.0,>=3.4.0->en-core-web-sm==3.4.1) (2022.12.7)\n",
            "Requirement already satisfied: blis<0.8.0,>=0.7.8 in /usr/local/lib/python3.8/dist-packages (from thinc<8.2.0,>=8.1.0->spacy<3.5.0,>=3.4.0->en-core-web-sm==3.4.1) (0.7.9)\n",
            "Requirement already satisfied: confection<1.0.0,>=0.0.1 in /usr/local/lib/python3.8/dist-packages (from thinc<8.2.0,>=8.1.0->spacy<3.5.0,>=3.4.0->en-core-web-sm==3.4.1) (0.0.3)\n",
            "Requirement already satisfied: click<9.0.0,>=7.1.1 in /usr/local/lib/python3.8/dist-packages (from typer<0.8.0,>=0.3.0->spacy<3.5.0,>=3.4.0->en-core-web-sm==3.4.1) (7.1.2)\n",
            "Requirement already satisfied: MarkupSafe>=0.23 in /usr/local/lib/python3.8/dist-packages (from jinja2->spacy<3.5.0,>=3.4.0->en-core-web-sm==3.4.1) (2.0.1)\n",
            "\u001b[38;5;2m✔ Download and installation successful\u001b[0m\n",
            "You can now load the package via spacy.load('en_core_web_sm')\n"
          ]
        }
      ],
      "source": [
        "!pip install spacy\n",
        "!python -m spacy download en_core_web_sm"
      ]
    },
    {
      "cell_type": "code",
      "execution_count": null,
      "metadata": {
        "id": "abmrnOsX7gjp"
      },
      "outputs": [],
      "source": [
        "import spacy\n",
        "\n",
        "# Kleines englisches Language Model\n",
        "nlp = spacy.load(\"en_core_web_sm\")\n",
        "\n",
        "# Für jede Datei im Output-Folder:\n",
        "for file in os.listdir(\"/content/output\"):\n",
        "    # Nur XML-Dateien\n",
        "    if file.endswith(\".xml\"):\n",
        "        with open(f\"/content/output/{file}\", 'r') as xml_file:\n",
        "          doc = grobid_tei_xml.parse_document_xml(xml_file.read())\n",
        "          print(\"file name: \" + file)\n",
        "          if doc.body is not None:\n",
        "            with open(f\"/content/body/{file}\", 'w') as body_file:\n",
        "              body_file.write(doc.body)\n",
        "              paragraphs = doc.body.splitlines()\n",
        "              for p in paragraphs:\n",
        "                print(p)\n",
        "            #doc = nlp(doc.body)\n",
        "\n",
        "            # Alle Sätze einzeln ausgeben:\n",
        "            #for sent in doc.sents:\n",
        "            #  print(sent)\n",
        "            # Entity Recognition\n",
        "            #for entity in doc.ents:\n",
        "            #  print(entity.text, entity.label_)"
      ]
    },
    {
      "cell_type": "code",
      "execution_count": 16,
      "metadata": {
        "id": "5vrAB-V0jfxK"
      },
      "outputs": [],
      "source": [
        "%%capture\n",
        "\n",
        "!pip install elasticsearch==7.14.0"
      ]
    },
    {
      "cell_type": "code",
      "execution_count": 17,
      "metadata": {
        "id": "3tMPevBejn2l"
      },
      "outputs": [],
      "source": [
        "try:\n",
        "  import os\n",
        "  import elasticsearch\n",
        "  from elasticsearch import Elasticsearch\n",
        "  import numpy as np\n",
        "  import pandas as pd\n",
        "  import sys\n",
        "  import json\n",
        "  from ast import literal_eval\n",
        "  from tqdm import tqdm \n",
        "  import datetime\n",
        "  from elasticsearch import helpers\n",
        "  \n",
        "except Exception as e:\n",
        "  print(f\"error: {e}\")"
      ]
    },
    {
      "cell_type": "code",
      "execution_count": null,
      "metadata": {
        "id": "5u1xMTd1jtTa"
      },
      "outputs": [],
      "source": [
        "# Download & extract Elasticsearch 7.0.0\n",
        "\n",
        "!wget https://artifacts.elastic.co/downloads/elasticsearch/elasticsearch-7.0.0-linux-x86_64.tar.gz -q\n",
        "!tar -xzf elasticsearch-7.0.0-linux-x86_64.tar.gz\n",
        "!chown -R daemon:daemon elasticsearch-7.0.0"
      ]
    },
    {
      "cell_type": "code",
      "execution_count": null,
      "metadata": {
        "id": "WBYn6R4Sj1jF"
      },
      "outputs": [],
      "source": [
        "# Creating daemon instance of elasticsearch\n",
        "import os\n",
        "from subprocess import Popen, PIPE, STDOUT\n",
        "es_server = Popen(['elasticsearch-7.0.0/bin/elasticsearch'], \n",
        "                  stdout=PIPE, stderr=STDOUT,\n",
        "                  preexec_fn=lambda: os.setuid(1)  # as daemon\n",
        "                 )"
      ]
    },
    {
      "cell_type": "code",
      "execution_count": null,
      "metadata": {
        "id": "Gc3hpSRej6WL"
      },
      "outputs": [],
      "source": [
        "# This part is important, since it takes a little amount of time for instance to load\n",
        "import time\n",
        "time.sleep(20)"
      ]
    },
    {
      "cell_type": "code",
      "execution_count": null,
      "metadata": {
        "id": "RvyS4NU9j_rw"
      },
      "outputs": [],
      "source": [
        "%%bash\n",
        "# If you get 1 root & 2 daemon process then Elasticsearch instance has started successfully\n",
        "ps -ef | grep elasticsearch"
      ]
    },
    {
      "cell_type": "code",
      "execution_count": null,
      "metadata": {
        "id": "rx-Obi6rkFur"
      },
      "outputs": [],
      "source": [
        "# Check if elasticsearch is running\n",
        "!curl -sX GET \"localhost:9200/\""
      ]
    },
    {
      "cell_type": "code",
      "execution_count": null,
      "metadata": {
        "colab": {
          "base_uri": "https://localhost:8080/"
        },
        "id": "kMK-Uu4jkKQm",
        "outputId": "fb1d3c35-cfcf-4b10-da31-a3fcbe5a75fb"
      },
      "outputs": [
        {
          "data": {
            "text/plain": [
              "True"
            ]
          },
          "execution_count": 112,
          "metadata": {},
          "output_type": "execute_result"
        }
      ],
      "source": [
        "es = Elasticsearch(hosts = [{\"host\":\"localhost\", \"port\":9200}])\n",
        "# Check if python is connected to elasticsearch\n",
        "es.ping()"
      ]
    },
    {
      "cell_type": "code",
      "execution_count": null,
      "metadata": {
        "id": "uEpMKJUjk5CM"
      },
      "outputs": [],
      "source": [
        "# Dataset erstellen\n",
        "\n",
        "dataset = pd.DataFrame({\"name\": [],\n",
        "                   \"body\": []})\n",
        "\n",
        "for file in os.listdir(\"/content/output\"):\n",
        "  # Nur XML-Dateien\n",
        "  if file.endswith(\".xml\"):\n",
        "      # Parsen und Body auslesen\n",
        "      with open(f\"/content/output/{file}\", 'r') as xml_file:\n",
        "        doc = grobid_tei_xml.parse_document_xml(xml_file.read())\n",
        "\n",
        "        if doc.body is not None:\n",
        "          row = {\"name\": file, \"body\": doc.body}\n",
        "          dataset = dataset.append(row, ignore_index=True)\n",
        "\n",
        "print(f\"shape of dataset: {dataset.shape}\")\n",
        "dataset.head()"
      ]
    },
    {
      "cell_type": "code",
      "execution_count": null,
      "metadata": {
        "id": "tf1Q5L1jrlLg"
      },
      "outputs": [],
      "source": [
        "# Define settings & mappings of Elasticsearch index\n",
        "Settings = {\n",
        "    \"settings\":{\n",
        "        \"number_of_shards\":1,\n",
        "        \"number_of_replicas\":0\n",
        "    },\n",
        "    \"mappings\":{\n",
        "        \"properties\":{\n",
        "            \"name\":{\n",
        "                \"type\":\"text\"\n",
        "            },\n",
        "            \"body\":{\n",
        "                \"type\":\"text\"\n",
        "            }\n",
        "        }\n",
        "    }\n",
        "}"
      ]
    },
    {
      "cell_type": "code",
      "execution_count": 19,
      "metadata": {
        "id": "LTAAjq4TrrsY"
      },
      "outputs": [],
      "source": [
        "def json_formatter(dataset, index_name, index_type='_doc'):\n",
        "    \"\"\"\n",
        "    This function is used to create JSON formatted dictionaries for Elasticsearch.\n",
        "\n",
        "    Args:\n",
        "      dataset: The dataset you want to apply this function.\n",
        "      index_name: Name of the index in Elasticsearch\n",
        "      index_type: Type of the index in Elasticsearch.\n",
        "      Note: It is suggested to keep index_type as '_doc' since it is deprecated from version 6.\n",
        "      Note: This function formats all columns of your dataset, if you want to apply this to special columns only,\n",
        "      you can delete the second for loop and add your custom fields.\n",
        "    \"\"\"\n",
        "    try:\n",
        "        List = []\n",
        "        columns = dataset.columns\n",
        "        for idx, row in dataset.iterrows():\n",
        "            dic = {}\n",
        "            dic['_index'] = index_name\n",
        "            dic['_type'] = index_type\n",
        "            source = {}\n",
        "            for i in dataset.columns:\n",
        "                source[i] = row[i]\n",
        "            dic['_source'] = source\n",
        "            List.append(dic)\n",
        "        return List\n",
        "    \n",
        "    except Exception as e:\n",
        "        print(\"There is a problem: {}\".format(e))"
      ]
    },
    {
      "cell_type": "code",
      "execution_count": null,
      "metadata": {
        "colab": {
          "base_uri": "https://localhost:8080/"
        },
        "id": "Xkvb_gQkr-dM",
        "outputId": "ca1d69c2-5c4d-4980-ab7a-3bb3e878de7b"
      },
      "outputs": [
        {
          "data": {
            "text/plain": [
              "{'acknowledged': True, 'shards_acknowledged': True, 'index': 'paper_index'}"
            ]
          },
          "execution_count": 80,
          "metadata": {},
          "output_type": "execute_result"
        }
      ],
      "source": [
        "MY_INDEX = es.indices.create(index=\"paper_index\", ignore=[400,404], body=Settings)\n",
        "MY_INDEX"
      ]
    },
    {
      "cell_type": "code",
      "execution_count": null,
      "metadata": {
        "id": "Xct-g2nnsOOd"
      },
      "outputs": [],
      "source": [
        "json_Formatted_dataset = json_formatter(dataset=dataset, index_name='paper_index', index_type='_doc')\n",
        "json_Formatted_dataset[0]"
      ]
    },
    {
      "cell_type": "code",
      "execution_count": null,
      "metadata": {
        "id": "tsI67_xAsXIm"
      },
      "outputs": [],
      "source": [
        "# For importing Data to elasticsearch we use elasticsearch's bulk API from elasticsearch.helpers\n",
        "try:\n",
        "    res = helpers.bulk(es, json_Formatted_dataset)\n",
        "    print(\"successfully imported to elasticsearch.\")\n",
        "except Exception as e:\n",
        "    print(f\"error: {e}\")"
      ]
    },
    {
      "cell_type": "code",
      "execution_count": null,
      "metadata": {
        "id": "t0TkObgLsmid"
      },
      "outputs": [],
      "source": [
        "# Get 10 sample of data\n",
        "query = es.search(\n",
        "    index=\"paper_index\",\n",
        "    body={\n",
        "      \"size\":10,\n",
        "      \"query\": {\n",
        "        \"match_all\":{}\n",
        "      }\n",
        "    }\n",
        ")\n",
        "\n",
        "output = pd.json_normalize((query['hits']['hits']))\n",
        "output"
      ]
    },
    {
      "cell_type": "code",
      "execution_count": null,
      "metadata": {
        "id": "x-liSKgjs1C0"
      },
      "outputs": [],
      "source": [
        "query = es.search(\n",
        "    index=\"paper_index\",\n",
        "    body={\n",
        "        \"size\":20,\n",
        "        \"query\":{\n",
        "            \"bool\":{\n",
        "                \"must\":[\n",
        "                        {\"match\":{\"body\":\"Accelerometer\"}}\n",
        "                ]\n",
        "            }\n",
        "        }\n",
        "    }\n",
        ")\n",
        "\n",
        "output = pd.json_normalize((query['hits']['hits']))\n",
        "output"
      ]
    },
    {
      "cell_type": "code",
      "execution_count": null,
      "metadata": {
        "id": "YPNKUbvrCFx0"
      },
      "outputs": [],
      "source": [
        "!pip install jina"
      ]
    },
    {
      "cell_type": "code",
      "source": [
        "!pip install grpcio==1.47\n",
        "!pip install grpcio-status==1.47\n",
        "!pip install protobuf==3.19"
      ],
      "metadata": {
        "id": "0uUil4iFP2ON"
      },
      "execution_count": null,
      "outputs": []
    },
    {
      "cell_type": "code",
      "execution_count": 22,
      "metadata": {
        "id": "PO20u0FxHWBp"
      },
      "outputs": [],
      "source": [
        "from docarray import DocumentArray"
      ]
    },
    {
      "cell_type": "code",
      "execution_count": null,
      "metadata": {
        "id": "Il5xXXhxHfa0"
      },
      "outputs": [],
      "source": [
        "docs = DocumentArray.from_list(json_Formatted_dataset[0:100])\n",
        "docs.summary()"
      ]
    },
    {
      "cell_type": "code",
      "execution_count": null,
      "metadata": {
        "id": "Ir2SNsCaIOWr"
      },
      "outputs": [],
      "source": [
        "from jina import Flow\n",
        "\n",
        "flow = (\n",
        "    Flow()\n",
        "    .add(\n",
        "        uses=\"jinahub://SpacySentencizer/latest\",\n",
        "        uses_with={\"traversal_paths\": \"@c\"},\n",
        "        install_requirements=True,\n",
        "        name=\"sentencizer\",\n",
        "    )\n",
        "    .add(\n",
        "        uses=\"jinahub://TransformerTorchEncoder:latest\",\n",
        "        uses_with={\"traversal_paths\": \"@cc\"},\n",
        "        install_requirements=True,\n",
        "        name=\"encoder\"\n",
        "    )\n",
        "    .add(\n",
        "        uses=\"jinahub://SimpleIndexer:latest\",\n",
        "        uses_with={\"traversal_right\": \"@cc\"},\n",
        "        install_requirements=True,\n",
        "        name=\"indexer\"\n",
        "    )\n",
        ")\n",
        "\n",
        "flow.plot()"
      ]
    },
    {
      "cell_type": "code",
      "source": [
        "#!jina hub pull jinahub://SimpleIndexer:latest --install-requirements\n",
        "#!jina hub pull jinahub://TransformerTorchEncoder:latest --install-requirements\n",
        "!jina hub pull jinahub://SpacySentencizer/latest --install-requirements"
      ],
      "metadata": {
        "id": "lD4NKzw8Gwz8"
      },
      "execution_count": null,
      "outputs": []
    },
    {
      "cell_type": "code",
      "execution_count": null,
      "metadata": {
        "id": "BQPj0vnjI4cS"
      },
      "outputs": [],
      "source": [
        "with flow:\n",
        "  docs = flow.index(docs, show_progress=True)"
      ]
    },
    {
      "cell_type": "code",
      "execution_count": null,
      "metadata": {
        "id": "kqw2aXDeI9FN"
      },
      "outputs": [],
      "source": [
        "search_flow = (\n",
        "    Flow()\n",
        "    .add(\n",
        "        uses=\"jinahub://TransformerTorchEncoder:latest\", \n",
        "         name=\"encoder\"\n",
        "    )\n",
        "    .add(\n",
        "        uses=\"jinahub://SimpleIndexer:latest\",\n",
        "        uses_with={\"traversal_right\": \"@cc\"},\n",
        "        name=\"indexer\"\n",
        "    )\n",
        ")  \n",
        "\n",
        "search_flow.plot()"
      ]
    },
    {
      "cell_type": "code",
      "execution_count": null,
      "metadata": {
        "id": "jfv-xRuuJARV"
      },
      "outputs": [],
      "source": [
        "search_term = \"what is LIDAR?\"\n",
        "from docarray import Document\n",
        "query_doc = Document(text=search_term)\n",
        "     \n",
        "with search_flow:\n",
        "  results = search_flow.search(query_doc, show_progress=True, return_results=True)\n",
        "\n",
        "for match in results[0].matches:\n",
        "  print(match.text)\n",
        "  print(match.scores[\"cosine\"].value)\n",
        "  print(\"---\")\n",
        "     "
      ]
    },
    {
      "cell_type": "code",
      "source": [
        "# Eine Datei \"sentences.txt\" erstellen, jeder Satz aus dem Korpus auf einer Zeile.\n",
        "import os\n",
        "import re\n",
        "import grobid_tei_xml\n",
        "import spacy\n",
        "import nltk\n",
        "from nltk.corpus import stopwords\n",
        "from gensim.utils import simple_preprocess\n",
        "\n",
        "def clean_text(s):\n",
        "  # removing links\n",
        "  s = re.sub(\"http[s]?://(?:[a-zA-Z]|[0–9]|[$-_@.&+]|(?:%[0–9a-fA-F][0–9a-fA-F]))+\", \"\", s)\n",
        "\n",
        "  # removing all everything except a-z english letters\n",
        "  regex = re.compile(\"[^a-zA-Z ]\")\n",
        "  s = regex.sub(\"\", s)\n",
        "\n",
        "  s = s.replace(\"\\t\", \"\")\n",
        "  s = s.strip()\n",
        "\n",
        "  return s\n",
        "\n",
        "nltk.download('stopwords')\n",
        "stop_words = stopwords.words('english')\n",
        "allow_postags = set(['NOUN', 'VERB', 'ADJ', 'ADV', 'PROPN'])\n",
        "\n",
        "# Kleines englisches Language Model\n",
        "nlp = spacy.load(\"en_core_web_sm\")\n",
        "\n",
        "with open(f\"/content/sentences.txt\", 'w') as sentence_file:\n",
        "  # Für jede Datei im Output-Folder:\n",
        "  for file in os.listdir(\"/content/output\"):\n",
        "      # Nur XML-Dateien\n",
        "      if file.endswith(\".xml\"):\n",
        "          with open(f\"/content/output/{file}\", 'r') as xml_file:\n",
        "            doc = grobid_tei_xml.parse_document_xml(xml_file.read())\n",
        "            print(\"file name: \" + file)\n",
        "            if doc.body is not None:\n",
        "                paragraphs = doc.body.splitlines()\n",
        "                for p in paragraphs:\n",
        "                  doc = nlp(p)\n",
        "\n",
        "                  for sent in doc.sents:\n",
        "                    words = []\n",
        "\n",
        "                    for token in sent:\n",
        "                      if token.text not in stop_words and token.pos_ in allow_postags:\n",
        "                        words.append(token.lemma_)\n",
        "                    \n",
        "                    text_to_clean = \" \".join(words)\n",
        "                    #print(text_to_clean)\n",
        "                    final_text = clean_text(text_to_clean)\n",
        "                    if len(final_text) > 0:\n",
        "                      sentence_file.write(final_text + \"\\n\")"
      ],
      "metadata": {
        "id": "ANg7pOo6lQ5U"
      },
      "execution_count": null,
      "outputs": []
    },
    {
      "cell_type": "code",
      "source": [
        "!pip uninstall -y gensim\n",
        "!sudo apt-get install python3-dev build-essential  \n",
        "!pip install gensim==3.2.0"
      ],
      "metadata": {
        "id": "jzigT7nWnBv8"
      },
      "execution_count": null,
      "outputs": []
    },
    {
      "cell_type": "code",
      "source": [
        "# Word2Vec\n",
        "import gensim\n",
        "# What's going on?\n",
        "import logging\n",
        "# We have 2 CPUs, so let's use em.\n",
        "import multiprocessing\n",
        "#plotting\n",
        "import matplotlib.pyplot as plt\n",
        "\n",
        "from google.colab import files\n",
        "from sklearn.manifold import TSNE\n",
        "\n",
        "#Colab and Jupyter need this\n",
        "%matplotlib inline"
      ],
      "metadata": {
        "id": "3w0dIo5znHmL",
        "outputId": "bcb6a4bc-cd7b-441c-e842-60269807ded5",
        "colab": {
          "base_uri": "https://localhost:8080/"
        }
      },
      "execution_count": 2,
      "outputs": [
        {
          "output_type": "stream",
          "name": "stderr",
          "text": [
            "WARNING:gensim.models.doc2vec:Slow version of gensim.models.doc2vec is being used\n",
            "WARNING:gensim.models.fasttext:Slow version of Fasttext is being used\n"
          ]
        }
      ]
    },
    {
      "cell_type": "code",
      "source": [
        "config = {\n",
        "    'min_count': 1,  # Ignore a word if it is observed less than 'min_count' times\n",
        "    'size': 300,  # Number of hidden neurons; dimension of word embeddings\n",
        "    'sg': 1,  # 0: CBOW, 1: skip-gram\n",
        "    'hs': 1, # 0: None, 1: apply hierarchical softmax\n",
        "    'negative': 0, # negative sampling\n",
        "    'batch_words': 10000, # Number of words in a batch\n",
        "    'iter': 10,  # iteration\n",
        "    'window': 2, # window size (how many nearby words to be considered as context words)\n",
        "    'workers': multiprocessing.cpu_count()\n",
        "}\n",
        "\n",
        "# set this to anything you want\n",
        "model_name = \"IeeeIVS\"\n",
        "\n",
        "# let's see some progess\n",
        "logging.basicConfig(format='%(asctime)s : %(levelname)s : %(message)s', level=logging.INFO)\n",
        "\n",
        "# gensim needs filepaths, this refers to the file you just uploaded:\n",
        "sentences_vocab = gensim.models.word2vec.LineSentence(\"/content/sentences.txt\")\n",
        "sentences_train = gensim.models.word2vec.LineSentence(\"/content/sentences.txt\")\n",
        "print('===> Corpus reader set-up completed!')\n",
        "\n",
        "model = gensim.models.Word2Vec(**config)\n",
        "print('===> Model setup completed!')\n",
        "\n",
        "model.build_vocab(sentences_vocab)\n",
        "print('===> Vocabulary building completed!')\n",
        "\n",
        "print('===> Begin training word vectors')\n",
        "try:\n",
        "  model.train(sentences_train)\n",
        "except ValueError:\t# newer versions of gensim strangely end up here and require hardcoded epoch numbers\n",
        "  model.train(sentences_train, total_examples=model.corpus_count, epochs=100)\n",
        "print('===> Training of word embedding completed!')\n",
        "\n",
        "model.save(model_name)\n",
        "print('===> Successfully saved!')"
      ],
      "metadata": {
        "id": "IDd_KCKAnSys",
        "outputId": "c7bf9a7c-febb-47c2-ce5c-1daefcdc171f",
        "colab": {
          "base_uri": "https://localhost:8080/"
        }
      },
      "execution_count": null,
      "outputs": [
        {
          "metadata": {
            "tags": null
          },
          "name": "stderr",
          "output_type": "stream",
          "text": [
            "WARNING:gensim.models.word2vec:Slow version of gensim.models.word2vec is being used\n"
          ]
        },
        {
          "metadata": {
            "tags": null
          },
          "name": "stdout",
          "output_type": "stream",
          "text": [
            "===> Corpus reader set-up completed!\n",
            "===> Model setup completed!\n",
            "===> Vocabulary building completed!\n",
            "===> Begin training word vectors\n"
          ]
        },
        {
          "metadata": {
            "tags": null
          },
          "name": "stderr",
          "output_type": "stream",
          "text": [
            "/usr/local/lib/python3.8/dist-packages/gensim/models/word2vec.py:929: UserWarning: C extension not loaded for Word2Vec, training will be slow. Install a C compiler and reinstall gensim for fast training.\n",
            "  warnings.warn(\n"
          ]
        }
      ]
    },
    {
      "cell_type": "code",
      "source": [
        "# load the model we just trained\n",
        "model_tag = gensim.models.Word2Vec.load(model_name)\n",
        "\n",
        "# get word vectors and vocabulary\n",
        "wordvectors = model_tag.wv.syn0\n",
        "vocabulary = model_tag.wv.vocab\n",
        "\n",
        "# t-SNE setting\n",
        "tsne = TSNE(n_components=2, random_state=0)\n",
        "Y = tsne.fit_transform(wordvectors[:1000, :])\n",
        "\n",
        "# plot\n",
        "# figsize ist Größe des Plots in Zoll\n",
        "plt.figure(figsize=[15,7])\n",
        "plt.scatter(Y[:, 0], Y[:, 1])\n",
        "for label, x, y in zip(vocabulary, Y[:, 0], Y[:, 1]):\n",
        "    plt.annotate(label, xy=(x, y), xytext=(0, 0), textcoords='offset points')\n",
        "plt.show()"
      ],
      "metadata": {
        "id": "PRQ7z25Anl_a"
      },
      "execution_count": null,
      "outputs": []
    }
  ],
  "metadata": {
    "colab": {
      "provenance": [],
      "include_colab_link": true
    },
    "kernelspec": {
      "display_name": "Python 3",
      "name": "python3"
    },
    "gpuClass": "standard"
  },
  "nbformat": 4,
  "nbformat_minor": 0
}